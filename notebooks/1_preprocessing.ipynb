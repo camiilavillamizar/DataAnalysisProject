{
 "cells": [
  {
   "cell_type": "markdown",
   "metadata": {},
   "source": [
    "# Air transportation Ocurrences\n",
    "## Preprocessing"
   ]
  },
  {
   "cell_type": "code",
   "execution_count": 2,
   "metadata": {},
   "outputs": [],
   "source": [
    "%load_ext autoreload\n",
    "%autoreload 2"
   ]
  },
  {
   "cell_type": "code",
   "execution_count": 3,
   "metadata": {},
   "outputs": [],
   "source": [
    "import sys\n",
    "sys.path.append(\"../scripts\")"
   ]
  },
  {
   "cell_type": "code",
   "execution_count": 4,
   "metadata": {},
   "outputs": [],
   "source": [
    "from data_loader import load_data_from_csv, load_data_from_temp\n",
    "from common.export_csv import exportDataVersion\n",
    "import pandas as pd\n",
    "import numpy as np"
   ]
  },
  {
   "cell_type": "markdown",
   "metadata": {},
   "source": [
    "### <font color=#43599e>Loading Data</font>"
   ]
  },
  {
   "cell_type": "code",
   "execution_count": 6,
   "metadata": {},
   "outputs": [
    {
     "name": "stdout",
     "output_type": "stream",
     "text": [
      "# of rows 'fullData_V1.csv': 48454\n"
     ]
    }
   ],
   "source": [
    "#Load data\n",
    "df = load_data_from_csv('fullData_V1.csv')\n",
    "#Data length\n",
    "print(f\"# of rows 'fullData_V1.csv': {len(df)}\")"
   ]
  },
  {
   "cell_type": "code",
   "execution_count": null,
   "metadata": {},
   "outputs": [],
   "source": []
  },
  {
   "cell_type": "code",
   "execution_count": 7,
   "metadata": {},
   "outputs": [
    {
     "name": "stdout",
     "output_type": "stream",
     "text": [
      "OccID                                  0\n",
      "OccNo                                  0\n",
      "AirportID_AirportName              26981\n",
      "AirportID_CountryID_DisplayEng     26981\n",
      "AirportID_ProvinceID_DisplayEng    27603\n",
      "                                   ...  \n",
      "DangerousGoodEnum_DisplayEng           0\n",
      "ICAODepart                         22717\n",
      "ICAODestination                        0\n",
      "SurvivableEnum_DisplayEng              0\n",
      "ICAO_DisplayEng                        0\n",
      "Length: 80, dtype: int64\n"
     ]
    },
    {
     "data": {
      "text/html": [
       "<div>\n",
       "<style scoped>\n",
       "    .dataframe tbody tr th:only-of-type {\n",
       "        vertical-align: middle;\n",
       "    }\n",
       "\n",
       "    .dataframe tbody tr th {\n",
       "        vertical-align: top;\n",
       "    }\n",
       "\n",
       "    .dataframe thead th {\n",
       "        text-align: right;\n",
       "    }\n",
       "</style>\n",
       "<table border=\"1\" class=\"dataframe\">\n",
       "  <thead>\n",
       "    <tr style=\"text-align: right;\">\n",
       "      <th></th>\n",
       "      <th>OccID</th>\n",
       "      <th>OccNo</th>\n",
       "      <th>AirportID_AirportName</th>\n",
       "      <th>AirportID_CountryID_DisplayEng</th>\n",
       "      <th>AirportID_ProvinceID_DisplayEng</th>\n",
       "      <th>Location</th>\n",
       "      <th>Latitude</th>\n",
       "      <th>LatEnum_DisplayEng</th>\n",
       "      <th>Longitude</th>\n",
       "      <th>LongEnum_DisplayEng</th>\n",
       "      <th>ICAO</th>\n",
       "      <th>BearingID_Abbr</th>\n",
       "      <th>BearingID_CompassPoint</th>\n",
       "      <th>BearingID_Highest</th>\n",
       "      <th>BearingID_Lowest</th>\n",
       "      <th>BearingID_Middle</th>\n",
       "      <th>CountryID_DisplayEng</th>\n",
       "      <th>Distance</th>\n",
       "      <th>DistanceEnumEng</th>\n",
       "      <th>LocationDescription</th>\n",
       "      <th>OccClassID_DisplayEng</th>\n",
       "      <th>OccDate</th>\n",
       "      <th>OccIncidentTypeID_DisplayEng</th>\n",
       "      <th>OccRegionID_DisplayEng</th>\n",
       "      <th>OccTime</th>\n",
       "      <th>OccTypeID_DisplayEng</th>\n",
       "      <th>TsbInvolveID_DisplayEng</th>\n",
       "      <th>OceanID_DisplayEng</th>\n",
       "      <th>PositionTypeEnum_DisplayEng</th>\n",
       "      <th>ProvinceID_DisplayEng</th>\n",
       "      <th>InitTSBNotifDate</th>\n",
       "      <th>ReportedByID_DisplayEng</th>\n",
       "      <th>RespRegionID_DisplayEng</th>\n",
       "      <th>SeriousIncidentEnum_DisplayEng</th>\n",
       "      <th>TimeZoneID_DisplayEng</th>\n",
       "      <th>IIC_FullName</th>\n",
       "      <th>Summary</th>\n",
       "      <th>CommonName</th>\n",
       "      <th>TotalFatalCount</th>\n",
       "      <th>TotalMinorCount</th>\n",
       "      <th>TotalNoneCount</th>\n",
       "      <th>TotalSeriousCount</th>\n",
       "      <th>TotalUnknownCount</th>\n",
       "      <th>NoAircraftInvolved</th>\n",
       "      <th>InjuriesEnum_DisplayEng</th>\n",
       "      <th>DeployedEnum_DisplayEng</th>\n",
       "      <th>SafetyCommIssuedEnum</th>\n",
       "      <th>AcID</th>\n",
       "      <th>AircraftID</th>\n",
       "      <th>AircraftVersion</th>\n",
       "      <th>RegistrationNo</th>\n",
       "      <th>SerialNo</th>\n",
       "      <th>AircraftTypeID_DisplayEng</th>\n",
       "      <th>AircraftModelID_DisplayEng</th>\n",
       "      <th>AircraftMakeID_DisplayEng</th>\n",
       "      <th>AircraftSeries</th>\n",
       "      <th>AircraftCommonNameID_DisplayEng</th>\n",
       "      <th>OrganizationID_DisplayEng</th>\n",
       "      <th>OperatorTypeID_DisplayEng</th>\n",
       "      <th>WeightCategoryID_DisplayEng</th>\n",
       "      <th>WeightCategoryID_MaxWeightCat</th>\n",
       "      <th>WeightCategoryID_MinWeightCat</th>\n",
       "      <th>LandingGearID_DisplayEng</th>\n",
       "      <th>WakeTurbulenceCategoryID_DisplayEng</th>\n",
       "      <th>YearOfManuf</th>\n",
       "      <th>MaxTakeOffWeight</th>\n",
       "      <th>NumberOfEngine</th>\n",
       "      <th>DamageLevelID_DisplayEng</th>\n",
       "      <th>DestAirportID_AirportName</th>\n",
       "      <th>DepartAirportID</th>\n",
       "      <th>DepartAirportID_AirportName</th>\n",
       "      <th>FlightPlanTypeID_DisplayEng</th>\n",
       "      <th>OperationTypeID_DisplayEng</th>\n",
       "      <th>CarsSubpartID_DisplayEng</th>\n",
       "      <th>FlightNo</th>\n",
       "      <th>DangerousGoodEnum_DisplayEng</th>\n",
       "      <th>ICAODepart</th>\n",
       "      <th>ICAODestination</th>\n",
       "      <th>SurvivableEnum_DisplayEng</th>\n",
       "      <th>ICAO_DisplayEng</th>\n",
       "    </tr>\n",
       "  </thead>\n",
       "  <tbody>\n",
       "    <tr>\n",
       "      <th>0</th>\n",
       "      <td>150172</td>\n",
       "      <td>A17A0047</td>\n",
       "      <td>NaN</td>\n",
       "      <td>NaN</td>\n",
       "      <td>NaN</td>\n",
       "      <td>NaN</td>\n",
       "      <td>46.284740</td>\n",
       "      <td>N</td>\n",
       "      <td>63.644120</td>\n",
       "      <td>W</td>\n",
       "      <td>NaN</td>\n",
       "      <td>NaN</td>\n",
       "      <td>NaN</td>\n",
       "      <td>0.00</td>\n",
       "      <td>0.00</td>\n",
       "      <td>0.0</td>\n",
       "      <td>CANADA</td>\n",
       "      <td>0.0</td>\n",
       "      <td>NaN</td>\n",
       "      <td>Albany, PEI private grass strip</td>\n",
       "      <td>CLASS 5</td>\n",
       "      <td>7/10/2017 12:00:00 AM</td>\n",
       "      <td>NaN</td>\n",
       "      <td>ATLANTIC</td>\n",
       "      <td>14:15:00</td>\n",
       "      <td>ACCIDENT</td>\n",
       "      <td>RESPONSIBLE</td>\n",
       "      <td>NaN</td>\n",
       "      <td>DDMMSS.SS</td>\n",
       "      <td>PRINCE EDWARD ISLAND</td>\n",
       "      <td>7/10/2017 12:00:00 AM</td>\n",
       "      <td>OWNER OF AIRCRAFT</td>\n",
       "      <td>ATLANTIC</td>\n",
       "      <td>NaN</td>\n",
       "      <td>ADT</td>\n",
       "      <td>Boothe, Daphne</td>\n",
       "      <td>C-IICE a privately operated Quad City Challeng...</td>\n",
       "      <td>Albany PEI Challenger II Special ultralightC-I...</td>\n",
       "      <td>0</td>\n",
       "      <td>1</td>\n",
       "      <td>0</td>\n",
       "      <td>0</td>\n",
       "      <td>0</td>\n",
       "      <td>0</td>\n",
       "      <td>Yes</td>\n",
       "      <td>No</td>\n",
       "      <td>45</td>\n",
       "      <td>65259</td>\n",
       "      <td>130203</td>\n",
       "      <td>2.0</td>\n",
       "      <td>C-IICE</td>\n",
       "      <td>CH2-0412-LSS-S5</td>\n",
       "      <td>ADVANCED ULTRALIGHT</td>\n",
       "      <td>CHALLENGER 11 SPECIAL</td>\n",
       "      <td>CHALLENGER</td>\n",
       "      <td>CH2-0412-LSS-S50-0210</td>\n",
       "      <td>NaN</td>\n",
       "      <td>NaN</td>\n",
       "      <td>PRIVATE</td>\n",
       "      <td>0-2250 KG       (0-4960 LBS)</td>\n",
       "      <td>2250</td>\n",
       "      <td>0</td>\n",
       "      <td>TRICYCLE FIXED</td>\n",
       "      <td>LIGHT</td>\n",
       "      <td>2015</td>\n",
       "      <td>435.0</td>\n",
       "      <td>1</td>\n",
       "      <td>SUBSTANTIAL</td>\n",
       "      <td>NaN</td>\n",
       "      <td>0</td>\n",
       "      <td>NaN</td>\n",
       "      <td>NaN</td>\n",
       "      <td>PLEASURE/TRAVEL</td>\n",
       "      <td>RECREATIONAL AVIATION</td>\n",
       "      <td>NaN</td>\n",
       "      <td>No</td>\n",
       "      <td>NaN</td>\n",
       "      <td>\\r</td>\n",
       "      <td>\\N</td>\n",
       "      <td>COLLISION WITH OBSTACLE(S) DURING TAKEOFF AND ...</td>\n",
       "    </tr>\n",
       "    <tr>\n",
       "      <th>1</th>\n",
       "      <td>150171</td>\n",
       "      <td>A17C0081</td>\n",
       "      <td>Industrial Park</td>\n",
       "      <td>CANADA</td>\n",
       "      <td>MANITOBA</td>\n",
       "      <td>Gimli</td>\n",
       "      <td>50.772778</td>\n",
       "      <td>N</td>\n",
       "      <td>96.821389</td>\n",
       "      <td>W</td>\n",
       "      <td>CYGM</td>\n",
       "      <td>NE</td>\n",
       "      <td>Northeast</td>\n",
       "      <td>56.25</td>\n",
       "      <td>33.75</td>\n",
       "      <td>45.0</td>\n",
       "      <td>CANADA</td>\n",
       "      <td>12.0</td>\n",
       "      <td>Nautical miles</td>\n",
       "      <td>NaN</td>\n",
       "      <td>CLASS 5</td>\n",
       "      <td>7/10/2017 12:00:00 AM</td>\n",
       "      <td>ENGINE (i)</td>\n",
       "      <td>CENTRAL</td>\n",
       "      <td>13:55:00</td>\n",
       "      <td>INCIDENT</td>\n",
       "      <td>RESPONSIBLE</td>\n",
       "      <td>NaN</td>\n",
       "      <td>DDMMSS.SS</td>\n",
       "      <td>MANITOBA</td>\n",
       "      <td>7/10/2017 12:00:00 AM</td>\n",
       "      <td>OPERATOR</td>\n",
       "      <td>CENTRAL</td>\n",
       "      <td>No</td>\n",
       "      <td>UTC</td>\n",
       "      <td>ROSS, DAVID</td>\n",
       "      <td>C-GWCP a Piper PA-32-300 aircraft operated by ...</td>\n",
       "      <td>CYGM 12 nm NE MHA Enterprises PA-32-300 C-GWCP...</td>\n",
       "      <td>0</td>\n",
       "      <td>0</td>\n",
       "      <td>1</td>\n",
       "      <td>0</td>\n",
       "      <td>0</td>\n",
       "      <td>0</td>\n",
       "      <td>No</td>\n",
       "      <td>No</td>\n",
       "      <td>45</td>\n",
       "      <td>65262</td>\n",
       "      <td>130204</td>\n",
       "      <td>2.0</td>\n",
       "      <td>C-GWCP</td>\n",
       "      <td>32-40539</td>\n",
       "      <td>AEROPLANE</td>\n",
       "      <td>PA-32-300</td>\n",
       "      <td>PIPER</td>\n",
       "      <td>NaN</td>\n",
       "      <td>NaN</td>\n",
       "      <td>MHA ENTERPRISES</td>\n",
       "      <td>COMMERCIAL</td>\n",
       "      <td>0-2250 KG       (0-4960 LBS)</td>\n",
       "      <td>2250</td>\n",
       "      <td>0</td>\n",
       "      <td>TRICYCLE FIXED</td>\n",
       "      <td>LIGHT</td>\n",
       "      <td>1968</td>\n",
       "      <td>1542.0</td>\n",
       "      <td>1</td>\n",
       "      <td>MINOR</td>\n",
       "      <td>WINNIPEG/ST. ANDREWS</td>\n",
       "      <td>1680</td>\n",
       "      <td>ST. THERESA POINT</td>\n",
       "      <td>VFR FLIGHT ITINERARY</td>\n",
       "      <td>AIR TRANSPORT</td>\n",
       "      <td>703 - AIR TAXI</td>\n",
       "      <td>C-GWCP</td>\n",
       "      <td>Unknown</td>\n",
       "      <td>CYST</td>\n",
       "      <td>CYAV\\r</td>\n",
       "      <td>\\N</td>\n",
       "      <td>SYSTEM/COMPONENT FAILURE OR MALFUNCTION (NON-P...</td>\n",
       "    </tr>\n",
       "    <tr>\n",
       "      <th>2</th>\n",
       "      <td>150170</td>\n",
       "      <td>A17F0159</td>\n",
       "      <td>San Francisco Intl</td>\n",
       "      <td>UNITED STATES</td>\n",
       "      <td>CALIFORNIA</td>\n",
       "      <td>San Francisco</td>\n",
       "      <td>37.638169</td>\n",
       "      <td>N</td>\n",
       "      <td>122.375428</td>\n",
       "      <td>W</td>\n",
       "      <td>KSFO</td>\n",
       "      <td>NaN</td>\n",
       "      <td>NaN</td>\n",
       "      <td>0.00</td>\n",
       "      <td>0.00</td>\n",
       "      <td>0.0</td>\n",
       "      <td>UNITED STATES</td>\n",
       "      <td>0.0</td>\n",
       "      <td>NaN</td>\n",
       "      <td>NaN</td>\n",
       "      <td>CLASS 5</td>\n",
       "      <td>7/8/2017 12:00:00 AM</td>\n",
       "      <td>RISK OF COLLISION (x)</td>\n",
       "      <td>FOREIGN</td>\n",
       "      <td>6:56:00</td>\n",
       "      <td>INCIDENT</td>\n",
       "      <td>ACCREDITED REP 3</td>\n",
       "      <td>NaN</td>\n",
       "      <td>DDMMSS.SS</td>\n",
       "      <td>CALIFORNIA</td>\n",
       "      <td>7/9/2017 12:00:00 AM</td>\n",
       "      <td>FOREIGN AIB</td>\n",
       "      <td>HEAD OFFICE</td>\n",
       "      <td>Yes</td>\n",
       "      <td>UTC</td>\n",
       "      <td>Harvey, Beverley</td>\n",
       "      <td>C-FKCK an Airbus 320-200 aircraft operated by ...</td>\n",
       "      <td>USA (KSFO) Air Canada A320-200 ACA759 (C-FKCK)...</td>\n",
       "      <td>0</td>\n",
       "      <td>0</td>\n",
       "      <td>140</td>\n",
       "      <td>0</td>\n",
       "      <td>0</td>\n",
       "      <td>0</td>\n",
       "      <td>No</td>\n",
       "      <td>No</td>\n",
       "      <td>45</td>\n",
       "      <td>23548</td>\n",
       "      <td>50927</td>\n",
       "      <td>12.0</td>\n",
       "      <td>C-FKCK</td>\n",
       "      <td>265</td>\n",
       "      <td>AEROPLANE</td>\n",
       "      <td>A320-200</td>\n",
       "      <td>AIRBUS</td>\n",
       "      <td>211</td>\n",
       "      <td>NaN</td>\n",
       "      <td>AIR CANADA</td>\n",
       "      <td>COMMERCIAL</td>\n",
       "      <td>27001-272000 KG (59526-599650 LBS)</td>\n",
       "      <td>272000</td>\n",
       "      <td>27001</td>\n",
       "      <td>TRICYCLE ALL RETRACT</td>\n",
       "      <td>MEDIUM</td>\n",
       "      <td>1991</td>\n",
       "      <td>75500.0</td>\n",
       "      <td>2</td>\n",
       "      <td>NONE</td>\n",
       "      <td>San Francisco Intl</td>\n",
       "      <td>1010</td>\n",
       "      <td>Lester B. Pearson Intl</td>\n",
       "      <td>ICAO IFR FLIGHT PLAN</td>\n",
       "      <td>AIR TRANSPORT</td>\n",
       "      <td>705 - AIRLINER</td>\n",
       "      <td>ACA759</td>\n",
       "      <td>No</td>\n",
       "      <td>CYYZ</td>\n",
       "      <td>KSFO\\r</td>\n",
       "      <td>Yes\\r</td>\n",
       "      <td>NAVIGATION ERRORS (NAV)</td>\n",
       "    </tr>\n",
       "    <tr>\n",
       "      <th>3</th>\n",
       "      <td>150169</td>\n",
       "      <td>A17C0080</td>\n",
       "      <td>FORT FRANCES MUNI</td>\n",
       "      <td>CANADA</td>\n",
       "      <td>ONTARIO</td>\n",
       "      <td>FORT FRANCES</td>\n",
       "      <td>48.650000</td>\n",
       "      <td>N</td>\n",
       "      <td>93.500000</td>\n",
       "      <td>W</td>\n",
       "      <td>CYAG</td>\n",
       "      <td>W</td>\n",
       "      <td>West</td>\n",
       "      <td>281.25</td>\n",
       "      <td>258.75</td>\n",
       "      <td>270.0</td>\n",
       "      <td>CANADA</td>\n",
       "      <td>30.0</td>\n",
       "      <td>Nautical miles</td>\n",
       "      <td>NaN</td>\n",
       "      <td>CLASS 5</td>\n",
       "      <td>7/5/2017 12:00:00 AM</td>\n",
       "      <td>DIFFICULT TO CONTROL (iv)</td>\n",
       "      <td>CENTRAL</td>\n",
       "      <td>2:15:00</td>\n",
       "      <td>INCIDENT</td>\n",
       "      <td>RESPONSIBLE</td>\n",
       "      <td>NaN</td>\n",
       "      <td>DDMMSS.SS</td>\n",
       "      <td>ONTARIO</td>\n",
       "      <td>7/7/2017 12:00:00 AM</td>\n",
       "      <td>OPERATOR</td>\n",
       "      <td>CENTRAL</td>\n",
       "      <td>No</td>\n",
       "      <td>UTC</td>\n",
       "      <td>ROSS, DAVID</td>\n",
       "      <td>C-GJVC a Fairchild SA227-DC aircraft operated ...</td>\n",
       "      <td>CYAG 30 nm W Bearskin Lake Air Services SA227-...</td>\n",
       "      <td>0</td>\n",
       "      <td>1</td>\n",
       "      <td>1</td>\n",
       "      <td>0</td>\n",
       "      <td>0</td>\n",
       "      <td>0</td>\n",
       "      <td>Yes</td>\n",
       "      <td>No</td>\n",
       "      <td>45</td>\n",
       "      <td>53068</td>\n",
       "      <td>117548</td>\n",
       "      <td>3.0</td>\n",
       "      <td>C-GJVC</td>\n",
       "      <td>DC-885B</td>\n",
       "      <td>AEROPLANE</td>\n",
       "      <td>SA227-DC</td>\n",
       "      <td>FAIRCHILD</td>\n",
       "      <td>NaN</td>\n",
       "      <td>METRO III</td>\n",
       "      <td>BEARSKIN LAKE AIR SERVICE</td>\n",
       "      <td>COMMERCIAL</td>\n",
       "      <td>5701-27000 KG   (12566-59525 LBS)</td>\n",
       "      <td>27000</td>\n",
       "      <td>5701</td>\n",
       "      <td>TRICYCLE ALL RETRACT</td>\n",
       "      <td>MEDIUM</td>\n",
       "      <td>1996</td>\n",
       "      <td>7484.0</td>\n",
       "      <td>2</td>\n",
       "      <td>NONE</td>\n",
       "      <td>KENORA</td>\n",
       "      <td>559</td>\n",
       "      <td>FORT FRANCES MUNI</td>\n",
       "      <td>VFR FLIGHT ITINERARY</td>\n",
       "      <td>AIR TRANSPORT</td>\n",
       "      <td>704 - COMMUTER</td>\n",
       "      <td>BLS345</td>\n",
       "      <td>No</td>\n",
       "      <td>CYAG</td>\n",
       "      <td>CYQK\\r</td>\n",
       "      <td>\\N</td>\n",
       "      <td>TURBULENCE ENCOUNTER (TURB)</td>\n",
       "    </tr>\n",
       "    <tr>\n",
       "      <th>4</th>\n",
       "      <td>150168</td>\n",
       "      <td>A17C0079</td>\n",
       "      <td>Baker Lake</td>\n",
       "      <td>CANADA</td>\n",
       "      <td>NUNAVUT</td>\n",
       "      <td>Baker Lake</td>\n",
       "      <td>66.448611</td>\n",
       "      <td>N</td>\n",
       "      <td>92.464444</td>\n",
       "      <td>W</td>\n",
       "      <td>CYBK</td>\n",
       "      <td>NW</td>\n",
       "      <td>Northwest</td>\n",
       "      <td>326.25</td>\n",
       "      <td>303.75</td>\n",
       "      <td>315.0</td>\n",
       "      <td>CANADA</td>\n",
       "      <td>158.0</td>\n",
       "      <td>Nautical miles</td>\n",
       "      <td>NaN</td>\n",
       "      <td>CLASS 5</td>\n",
       "      <td>7/2/2017 12:00:00 AM</td>\n",
       "      <td>NaN</td>\n",
       "      <td>CENTRAL</td>\n",
       "      <td>22:00:00</td>\n",
       "      <td>ACCIDENT</td>\n",
       "      <td>RESPONSIBLE</td>\n",
       "      <td>NaN</td>\n",
       "      <td>DDMMSS.SS</td>\n",
       "      <td>NUNAVUT</td>\n",
       "      <td>7/5/2017 12:00:00 AM</td>\n",
       "      <td>OPERATOR</td>\n",
       "      <td>CENTRAL</td>\n",
       "      <td>NaN</td>\n",
       "      <td>CDT</td>\n",
       "      <td>ROSS, DAVID</td>\n",
       "      <td>C-GGSV an Aerospatiale AS 350 B-2 aircraft ope...</td>\n",
       "      <td>66 26N 92 27W Great Slave Helicopters AS350-B2...</td>\n",
       "      <td>0</td>\n",
       "      <td>0</td>\n",
       "      <td>3</td>\n",
       "      <td>0</td>\n",
       "      <td>0</td>\n",
       "      <td>0</td>\n",
       "      <td>No</td>\n",
       "      <td>No</td>\n",
       "      <td>45</td>\n",
       "      <td>65241</td>\n",
       "      <td>130202</td>\n",
       "      <td>2.0</td>\n",
       "      <td>C-GGSV</td>\n",
       "      <td>2281</td>\n",
       "      <td>HELICOPTER</td>\n",
       "      <td>AS 350 B2</td>\n",
       "      <td>AEROSPATIALE</td>\n",
       "      <td>NaN</td>\n",
       "      <td>NaN</td>\n",
       "      <td>GREAT SLAVE HELICOPTERS</td>\n",
       "      <td>COMMERCIAL</td>\n",
       "      <td>0-2250 KG       (0-4960 LBS)</td>\n",
       "      <td>2250</td>\n",
       "      <td>0</td>\n",
       "      <td>SKID</td>\n",
       "      <td>LIGHT</td>\n",
       "      <td>1989</td>\n",
       "      <td>2250.0</td>\n",
       "      <td>1</td>\n",
       "      <td>SUBSTANTIAL</td>\n",
       "      <td>NaN</td>\n",
       "      <td>0</td>\n",
       "      <td>NaN</td>\n",
       "      <td>VFR FLIGHT ITINERARY</td>\n",
       "      <td>AIR TRANSPORT</td>\n",
       "      <td>703 - AIR TAXI</td>\n",
       "      <td>C-GGSV</td>\n",
       "      <td>No</td>\n",
       "      <td>NaN</td>\n",
       "      <td>\\r</td>\n",
       "      <td>\\N</td>\n",
       "      <td>COLLISION WITH OBSTACLE(S) DURING TAKEOFF AND ...</td>\n",
       "    </tr>\n",
       "  </tbody>\n",
       "</table>\n",
       "</div>"
      ],
      "text/plain": [
       "    OccID     OccNo AirportID_AirportName AirportID_CountryID_DisplayEng  \\\n",
       "0  150172  A17A0047                   NaN                            NaN   \n",
       "1  150171  A17C0081       Industrial Park                         CANADA   \n",
       "2  150170  A17F0159    San Francisco Intl                  UNITED STATES   \n",
       "3  150169  A17C0080     FORT FRANCES MUNI                         CANADA   \n",
       "4  150168  A17C0079            Baker Lake                         CANADA   \n",
       "\n",
       "  AirportID_ProvinceID_DisplayEng       Location   Latitude  \\\n",
       "0                             NaN            NaN  46.284740   \n",
       "1                        MANITOBA          Gimli  50.772778   \n",
       "2                      CALIFORNIA  San Francisco  37.638169   \n",
       "3                         ONTARIO   FORT FRANCES  48.650000   \n",
       "4                         NUNAVUT     Baker Lake  66.448611   \n",
       "\n",
       "  LatEnum_DisplayEng   Longitude LongEnum_DisplayEng  ICAO BearingID_Abbr  \\\n",
       "0                  N   63.644120                   W   NaN            NaN   \n",
       "1                  N   96.821389                   W  CYGM             NE   \n",
       "2                  N  122.375428                   W  KSFO            NaN   \n",
       "3                  N   93.500000                   W  CYAG              W   \n",
       "4                  N   92.464444                   W  CYBK             NW   \n",
       "\n",
       "  BearingID_CompassPoint  BearingID_Highest  BearingID_Lowest  \\\n",
       "0                    NaN               0.00              0.00   \n",
       "1              Northeast              56.25             33.75   \n",
       "2                    NaN               0.00              0.00   \n",
       "3                   West             281.25            258.75   \n",
       "4              Northwest             326.25            303.75   \n",
       "\n",
       "   BearingID_Middle CountryID_DisplayEng  Distance DistanceEnumEng  \\\n",
       "0               0.0               CANADA       0.0             NaN   \n",
       "1              45.0               CANADA      12.0  Nautical miles   \n",
       "2               0.0        UNITED STATES       0.0             NaN   \n",
       "3             270.0               CANADA      30.0  Nautical miles   \n",
       "4             315.0               CANADA     158.0  Nautical miles   \n",
       "\n",
       "               LocationDescription OccClassID_DisplayEng  \\\n",
       "0  Albany, PEI private grass strip               CLASS 5   \n",
       "1                              NaN               CLASS 5   \n",
       "2                              NaN               CLASS 5   \n",
       "3                              NaN               CLASS 5   \n",
       "4                              NaN               CLASS 5   \n",
       "\n",
       "                 OccDate OccIncidentTypeID_DisplayEng OccRegionID_DisplayEng  \\\n",
       "0  7/10/2017 12:00:00 AM                          NaN               ATLANTIC   \n",
       "1  7/10/2017 12:00:00 AM                   ENGINE (i)                CENTRAL   \n",
       "2   7/8/2017 12:00:00 AM        RISK OF COLLISION (x)                FOREIGN   \n",
       "3   7/5/2017 12:00:00 AM    DIFFICULT TO CONTROL (iv)                CENTRAL   \n",
       "4   7/2/2017 12:00:00 AM                          NaN                CENTRAL   \n",
       "\n",
       "    OccTime OccTypeID_DisplayEng TsbInvolveID_DisplayEng OceanID_DisplayEng  \\\n",
       "0  14:15:00             ACCIDENT             RESPONSIBLE                NaN   \n",
       "1  13:55:00             INCIDENT             RESPONSIBLE                NaN   \n",
       "2   6:56:00             INCIDENT        ACCREDITED REP 3                NaN   \n",
       "3   2:15:00             INCIDENT             RESPONSIBLE                NaN   \n",
       "4  22:00:00             ACCIDENT             RESPONSIBLE                NaN   \n",
       "\n",
       "  PositionTypeEnum_DisplayEng ProvinceID_DisplayEng       InitTSBNotifDate  \\\n",
       "0                   DDMMSS.SS  PRINCE EDWARD ISLAND  7/10/2017 12:00:00 AM   \n",
       "1                   DDMMSS.SS              MANITOBA  7/10/2017 12:00:00 AM   \n",
       "2                   DDMMSS.SS            CALIFORNIA   7/9/2017 12:00:00 AM   \n",
       "3                   DDMMSS.SS               ONTARIO   7/7/2017 12:00:00 AM   \n",
       "4                   DDMMSS.SS               NUNAVUT   7/5/2017 12:00:00 AM   \n",
       "\n",
       "  ReportedByID_DisplayEng RespRegionID_DisplayEng  \\\n",
       "0       OWNER OF AIRCRAFT                ATLANTIC   \n",
       "1                OPERATOR                 CENTRAL   \n",
       "2             FOREIGN AIB             HEAD OFFICE   \n",
       "3                OPERATOR                 CENTRAL   \n",
       "4                OPERATOR                 CENTRAL   \n",
       "\n",
       "  SeriousIncidentEnum_DisplayEng TimeZoneID_DisplayEng      IIC_FullName  \\\n",
       "0                            NaN                   ADT    Boothe, Daphne   \n",
       "1                             No                   UTC       ROSS, DAVID   \n",
       "2                            Yes                   UTC  Harvey, Beverley   \n",
       "3                             No                   UTC       ROSS, DAVID   \n",
       "4                            NaN                   CDT       ROSS, DAVID   \n",
       "\n",
       "                                             Summary  \\\n",
       "0  C-IICE a privately operated Quad City Challeng...   \n",
       "1  C-GWCP a Piper PA-32-300 aircraft operated by ...   \n",
       "2  C-FKCK an Airbus 320-200 aircraft operated by ...   \n",
       "3  C-GJVC a Fairchild SA227-DC aircraft operated ...   \n",
       "4  C-GGSV an Aerospatiale AS 350 B-2 aircraft ope...   \n",
       "\n",
       "                                          CommonName  TotalFatalCount  \\\n",
       "0  Albany PEI Challenger II Special ultralightC-I...                0   \n",
       "1  CYGM 12 nm NE MHA Enterprises PA-32-300 C-GWCP...                0   \n",
       "2  USA (KSFO) Air Canada A320-200 ACA759 (C-FKCK)...                0   \n",
       "3  CYAG 30 nm W Bearskin Lake Air Services SA227-...                0   \n",
       "4  66 26N 92 27W Great Slave Helicopters AS350-B2...                0   \n",
       "\n",
       "   TotalMinorCount  TotalNoneCount  TotalSeriousCount  TotalUnknownCount  \\\n",
       "0                1               0                  0                  0   \n",
       "1                0               1                  0                  0   \n",
       "2                0             140                  0                  0   \n",
       "3                1               1                  0                  0   \n",
       "4                0               3                  0                  0   \n",
       "\n",
       "   NoAircraftInvolved InjuriesEnum_DisplayEng DeployedEnum_DisplayEng  \\\n",
       "0                   0                     Yes                      No   \n",
       "1                   0                      No                      No   \n",
       "2                   0                      No                      No   \n",
       "3                   0                     Yes                      No   \n",
       "4                   0                      No                      No   \n",
       "\n",
       "   SafetyCommIssuedEnum   AcID  AircraftID  AircraftVersion RegistrationNo  \\\n",
       "0                    45  65259      130203              2.0         C-IICE   \n",
       "1                    45  65262      130204              2.0         C-GWCP   \n",
       "2                    45  23548       50927             12.0         C-FKCK   \n",
       "3                    45  53068      117548              3.0         C-GJVC   \n",
       "4                    45  65241      130202              2.0         C-GGSV   \n",
       "\n",
       "          SerialNo AircraftTypeID_DisplayEng AircraftModelID_DisplayEng  \\\n",
       "0  CH2-0412-LSS-S5       ADVANCED ULTRALIGHT      CHALLENGER 11 SPECIAL   \n",
       "1         32-40539                 AEROPLANE                  PA-32-300   \n",
       "2              265                 AEROPLANE                   A320-200   \n",
       "3          DC-885B                 AEROPLANE                   SA227-DC   \n",
       "4             2281                HELICOPTER                  AS 350 B2   \n",
       "\n",
       "  AircraftMakeID_DisplayEng         AircraftSeries  \\\n",
       "0                CHALLENGER  CH2-0412-LSS-S50-0210   \n",
       "1                     PIPER                    NaN   \n",
       "2                    AIRBUS                    211   \n",
       "3                 FAIRCHILD                    NaN   \n",
       "4              AEROSPATIALE                    NaN   \n",
       "\n",
       "  AircraftCommonNameID_DisplayEng  OrganizationID_DisplayEng  \\\n",
       "0                             NaN                        NaN   \n",
       "1                             NaN            MHA ENTERPRISES   \n",
       "2                             NaN                 AIR CANADA   \n",
       "3                       METRO III  BEARSKIN LAKE AIR SERVICE   \n",
       "4                             NaN    GREAT SLAVE HELICOPTERS   \n",
       "\n",
       "  OperatorTypeID_DisplayEng         WeightCategoryID_DisplayEng  \\\n",
       "0                   PRIVATE        0-2250 KG       (0-4960 LBS)   \n",
       "1                COMMERCIAL        0-2250 KG       (0-4960 LBS)   \n",
       "2                COMMERCIAL  27001-272000 KG (59526-599650 LBS)   \n",
       "3                COMMERCIAL   5701-27000 KG   (12566-59525 LBS)   \n",
       "4                COMMERCIAL        0-2250 KG       (0-4960 LBS)   \n",
       "\n",
       "   WeightCategoryID_MaxWeightCat  WeightCategoryID_MinWeightCat  \\\n",
       "0                           2250                              0   \n",
       "1                           2250                              0   \n",
       "2                         272000                          27001   \n",
       "3                          27000                           5701   \n",
       "4                           2250                              0   \n",
       "\n",
       "  LandingGearID_DisplayEng WakeTurbulenceCategoryID_DisplayEng  YearOfManuf  \\\n",
       "0           TRICYCLE FIXED                               LIGHT         2015   \n",
       "1           TRICYCLE FIXED                               LIGHT         1968   \n",
       "2     TRICYCLE ALL RETRACT                              MEDIUM         1991   \n",
       "3     TRICYCLE ALL RETRACT                              MEDIUM         1996   \n",
       "4                     SKID                               LIGHT         1989   \n",
       "\n",
       "   MaxTakeOffWeight  NumberOfEngine DamageLevelID_DisplayEng  \\\n",
       "0             435.0               1              SUBSTANTIAL   \n",
       "1            1542.0               1                    MINOR   \n",
       "2           75500.0               2                     NONE   \n",
       "3            7484.0               2                     NONE   \n",
       "4            2250.0               1              SUBSTANTIAL   \n",
       "\n",
       "  DestAirportID_AirportName  DepartAirportID DepartAirportID_AirportName  \\\n",
       "0                       NaN                0                         NaN   \n",
       "1      WINNIPEG/ST. ANDREWS             1680           ST. THERESA POINT   \n",
       "2        San Francisco Intl             1010      Lester B. Pearson Intl   \n",
       "3                    KENORA              559           FORT FRANCES MUNI   \n",
       "4                       NaN                0                         NaN   \n",
       "\n",
       "  FlightPlanTypeID_DisplayEng OperationTypeID_DisplayEng  \\\n",
       "0                         NaN            PLEASURE/TRAVEL   \n",
       "1        VFR FLIGHT ITINERARY              AIR TRANSPORT   \n",
       "2        ICAO IFR FLIGHT PLAN              AIR TRANSPORT   \n",
       "3        VFR FLIGHT ITINERARY              AIR TRANSPORT   \n",
       "4        VFR FLIGHT ITINERARY              AIR TRANSPORT   \n",
       "\n",
       "  CarsSubpartID_DisplayEng FlightNo DangerousGoodEnum_DisplayEng ICAODepart  \\\n",
       "0    RECREATIONAL AVIATION      NaN                           No        NaN   \n",
       "1           703 - AIR TAXI   C-GWCP                      Unknown       CYST   \n",
       "2           705 - AIRLINER   ACA759                           No       CYYZ   \n",
       "3           704 - COMMUTER   BLS345                           No       CYAG   \n",
       "4           703 - AIR TAXI   C-GGSV                           No        NaN   \n",
       "\n",
       "  ICAODestination SurvivableEnum_DisplayEng  \\\n",
       "0              \\r                        \\N   \n",
       "1          CYAV\\r                        \\N   \n",
       "2          KSFO\\r                     Yes\\r   \n",
       "3          CYQK\\r                        \\N   \n",
       "4              \\r                        \\N   \n",
       "\n",
       "                                     ICAO_DisplayEng  \n",
       "0  COLLISION WITH OBSTACLE(S) DURING TAKEOFF AND ...  \n",
       "1  SYSTEM/COMPONENT FAILURE OR MALFUNCTION (NON-P...  \n",
       "2                            NAVIGATION ERRORS (NAV)  \n",
       "3                        TURBULENCE ENCOUNTER (TURB)  \n",
       "4  COLLISION WITH OBSTACLE(S) DURING TAKEOFF AND ...  "
      ]
     },
     "execution_count": 7,
     "metadata": {},
     "output_type": "execute_result"
    }
   ],
   "source": [
    "df = df.replace(\"NaN\", np.nan)\n",
    "print(df.isnull().sum())\n",
    "pd.set_option('display.max_rows', None)  # Show all rows\n",
    "pd.set_option('display.max_columns', None)  # Show all columns\n",
    "df.head()"
   ]
  },
  {
   "cell_type": "markdown",
   "metadata": {},
   "source": [
    "### <font color=#43599e>Deleting features without data</font>"
   ]
  },
  {
   "cell_type": "code",
   "execution_count": 9,
   "metadata": {},
   "outputs": [],
   "source": [
    "df = df.drop(columns=['BearingID_Abbr', 'BearingID_CompassPoint', 'AirportID_AirportName', \n",
    "              'AirportID_CountryID_DisplayEng', 'Location', 'AirportID_ProvinceID_DisplayEng',\n",
    "             'ICAO', 'BearingID_Highest', 'BearingID_Lowest', 'BearingID_Middle',\n",
    "              'Distance','DistanceEnumEng', 'LocationDescription',\n",
    "              'DistanceEnumEng', 'SeriousIncidentEnum_DisplayEng', 'TimeZoneID_DisplayEng',\n",
    "             'IIC_FullName','CommonName', 'TotalFatalCount', 'TotalMinorCount', 'TotalNoneCount',\n",
    "             'TotalSeriousCount', 'TotalUnknownCount', 'NoAircraftInvolved', 'SafetyCommIssuedEnum', 'AcID',\n",
    "             'AircraftVersion','AircraftID', 'SerialNo', 'AircraftModelID_DisplayEng', 'AircraftSeries', 'AircraftCommonNameID_DisplayEng',\n",
    "             'WeightCategoryID_MaxWeightCat', 'WeightCategoryID_MinWeightCat', 'MaxTakeOffWeight', 'DestAirportID_AirportName',\n",
    "             'DepartAirportID', 'DepartAirportID_AirportName', 'FlightPlanTypeID_DisplayEng', 'CarsSubpartID_DisplayEng', \n",
    "             'FlightNo', 'DangerousGoodEnum_DisplayEng', 'ICAODestination', 'SurvivableEnum_DisplayEng', 'ICAO_DisplayEng'])"
   ]
  },
  {
   "cell_type": "code",
   "execution_count": 10,
   "metadata": {},
   "outputs": [
    {
     "name": "stdout",
     "output_type": "stream",
     "text": [
      "OccID                                      0\n",
      "OccNo                                      0\n",
      "Latitude                                   0\n",
      "LatEnum_DisplayEng                      1423\n",
      "Longitude                                  0\n",
      "LongEnum_DisplayEng                     1608\n",
      "CountryID_DisplayEng                       0\n",
      "OccClassID_DisplayEng                      0\n",
      "OccDate                                    0\n",
      "OccIncidentTypeID_DisplayEng           20182\n",
      "OccRegionID_DisplayEng                    30\n",
      "OccTime                                  301\n",
      "OccTypeID_DisplayEng                       0\n",
      "TsbInvolveID_DisplayEng                11894\n",
      "OceanID_DisplayEng                     47168\n",
      "PositionTypeEnum_DisplayEng                0\n",
      "ProvinceID_DisplayEng                   2442\n",
      "InitTSBNotifDate                           0\n",
      "ReportedByID_DisplayEng                    0\n",
      "RespRegionID_DisplayEng                  131\n",
      "Summary                                   97\n",
      "InjuriesEnum_DisplayEng                    0\n",
      "DeployedEnum_DisplayEng                  139\n",
      "RegistrationNo                             0\n",
      "AircraftTypeID_DisplayEng                  2\n",
      "AircraftMakeID_DisplayEng               1038\n",
      "OrganizationID_DisplayEng              11962\n",
      "OperatorTypeID_DisplayEng               2822\n",
      "WeightCategoryID_DisplayEng               75\n",
      "LandingGearID_DisplayEng                9649\n",
      "WakeTurbulenceCategoryID_DisplayEng     1796\n",
      "YearOfManuf                                0\n",
      "NumberOfEngine                             0\n",
      "DamageLevelID_DisplayEng                1507\n",
      "OperationTypeID_DisplayEng              3260\n",
      "ICAODepart                             22717\n",
      "dtype: int64\n"
     ]
    }
   ],
   "source": [
    "print(df.isnull().sum())"
   ]
  },
  {
   "attachments": {},
   "cell_type": "markdown",
   "metadata": {},
   "source": [
    "### <font color=#43599e>Handling nulls and converting features</font>\n",
    "\n",
    "#### OccNo\n",
    "As is a identifier number we can delete it "
   ]
  },
  {
   "cell_type": "code",
   "execution_count": 12,
   "metadata": {},
   "outputs": [],
   "source": [
    "df = df.drop(columns = \"OccNo\")"
   ]
  },
  {
   "cell_type": "markdown",
   "metadata": {},
   "source": [
    "#### LatEnum_DisplayEng and LongEnum_DisplayEng "
   ]
  },
  {
   "cell_type": "code",
   "execution_count": 14,
   "metadata": {},
   "outputs": [],
   "source": [
    "from preprocessing.constants_preprocessing import OCEAN_COORDINATES, OCEAN_PROVINCES_COORDINATES, COUNTRY_PROVINCE_COORDINATES \n",
    "from preprocessing.constants_preprocessing import COUNTRIES_COORDINATES, COUNTRIES_CARDINAL_DIRECTIONS, OCEAN_CARDINAL_DIRECTIONS"
   ]
  },
  {
   "cell_type": "code",
   "execution_count": 15,
   "metadata": {},
   "outputs": [
    {
     "data": {
      "text/html": [
       "<div>\n",
       "<style scoped>\n",
       "    .dataframe tbody tr th:only-of-type {\n",
       "        vertical-align: middle;\n",
       "    }\n",
       "\n",
       "    .dataframe tbody tr th {\n",
       "        vertical-align: top;\n",
       "    }\n",
       "\n",
       "    .dataframe thead th {\n",
       "        text-align: right;\n",
       "    }\n",
       "</style>\n",
       "<table border=\"1\" class=\"dataframe\">\n",
       "  <thead>\n",
       "    <tr style=\"text-align: right;\">\n",
       "      <th></th>\n",
       "      <th>Latitude</th>\n",
       "      <th>LatEnum_DisplayEng</th>\n",
       "      <th>Longitude</th>\n",
       "      <th>LongEnum_DisplayEng</th>\n",
       "      <th>CountryID_DisplayEng</th>\n",
       "      <th>OccRegionID_DisplayEng</th>\n",
       "      <th>OceanID_DisplayEng</th>\n",
       "      <th>ProvinceID_DisplayEng</th>\n",
       "      <th>RespRegionID_DisplayEng</th>\n",
       "    </tr>\n",
       "  </thead>\n",
       "  <tbody>\n",
       "    <tr>\n",
       "      <th>5000</th>\n",
       "      <td>50.033333</td>\n",
       "      <td>NaN</td>\n",
       "      <td>8.566667</td>\n",
       "      <td>E</td>\n",
       "      <td>GERMANY</td>\n",
       "      <td>FOREIGN</td>\n",
       "      <td>NaN</td>\n",
       "      <td>NaN</td>\n",
       "      <td>HEAD OFFICE</td>\n",
       "    </tr>\n",
       "    <tr>\n",
       "      <th>5052</th>\n",
       "      <td>51.466667</td>\n",
       "      <td>NaN</td>\n",
       "      <td>0.450000</td>\n",
       "      <td>NaN</td>\n",
       "      <td>UNITED KINGDOM</td>\n",
       "      <td>FOREIGN</td>\n",
       "      <td>NaN</td>\n",
       "      <td>NaN</td>\n",
       "      <td>ONTARIO</td>\n",
       "    </tr>\n",
       "    <tr>\n",
       "      <th>5356</th>\n",
       "      <td>51.466667</td>\n",
       "      <td>NaN</td>\n",
       "      <td>0.450000</td>\n",
       "      <td>NaN</td>\n",
       "      <td>UNITED KINGDOM</td>\n",
       "      <td>FOREIGN</td>\n",
       "      <td>NaN</td>\n",
       "      <td>NaN</td>\n",
       "      <td>ONTARIO</td>\n",
       "    </tr>\n",
       "    <tr>\n",
       "      <th>5563</th>\n",
       "      <td>51.466667</td>\n",
       "      <td>NaN</td>\n",
       "      <td>0.450000</td>\n",
       "      <td>NaN</td>\n",
       "      <td>UNITED KINGDOM</td>\n",
       "      <td>FOREIGN</td>\n",
       "      <td>NaN</td>\n",
       "      <td>NaN</td>\n",
       "      <td>ONTARIO</td>\n",
       "    </tr>\n",
       "    <tr>\n",
       "      <th>5799</th>\n",
       "      <td>50.033333</td>\n",
       "      <td>NaN</td>\n",
       "      <td>8.566667</td>\n",
       "      <td>E</td>\n",
       "      <td>GERMANY</td>\n",
       "      <td>FOREIGN</td>\n",
       "      <td>NaN</td>\n",
       "      <td>NaN</td>\n",
       "      <td>HEAD OFFICE</td>\n",
       "    </tr>\n",
       "  </tbody>\n",
       "</table>\n",
       "</div>"
      ],
      "text/plain": [
       "       Latitude LatEnum_DisplayEng  Longitude LongEnum_DisplayEng  \\\n",
       "5000  50.033333                NaN   8.566667                   E   \n",
       "5052  51.466667                NaN   0.450000                 NaN   \n",
       "5356  51.466667                NaN   0.450000                 NaN   \n",
       "5563  51.466667                NaN   0.450000                 NaN   \n",
       "5799  50.033333                NaN   8.566667                   E   \n",
       "\n",
       "     CountryID_DisplayEng OccRegionID_DisplayEng OceanID_DisplayEng  \\\n",
       "5000              GERMANY                FOREIGN                NaN   \n",
       "5052       UNITED KINGDOM                FOREIGN                NaN   \n",
       "5356       UNITED KINGDOM                FOREIGN                NaN   \n",
       "5563       UNITED KINGDOM                FOREIGN                NaN   \n",
       "5799              GERMANY                FOREIGN                NaN   \n",
       "\n",
       "     ProvinceID_DisplayEng RespRegionID_DisplayEng  \n",
       "5000                   NaN             HEAD OFFICE  \n",
       "5052                   NaN                 ONTARIO  \n",
       "5356                   NaN                 ONTARIO  \n",
       "5563                   NaN                 ONTARIO  \n",
       "5799                   NaN             HEAD OFFICE  "
      ]
     },
     "execution_count": 15,
     "metadata": {},
     "output_type": "execute_result"
    }
   ],
   "source": [
    "columns_to_include = [\"Latitude\", \"LatEnum_DisplayEng\", \"Longitude\", \"LongEnum_DisplayEng\", \"CountryID_DisplayEng\", \"OccRegionID_DisplayEng\", \"OceanID_DisplayEng\", \n",
    "                      \"ProvinceID_DisplayEng\", \"RespRegionID_DisplayEng\"] \n",
    "\n",
    "filtered_cardinal_directions = df.copy()\n",
    "filtered_cardinal_directions = df[\n",
    "    (df['LatEnum_DisplayEng'].isna() | df['LongEnum_DisplayEng'].isna()) &\n",
    "    (~df[\"Latitude\"].isna() & df[\"Latitude\"] != 0) &   #Because we will handle it separately\n",
    "    (~df[\"Longitude\"].isna() & df[\"Longitude\"] != 0)\n",
    "]\n",
    "\n",
    "filtered_cardinal_directions = filtered_cardinal_directions[columns_to_include]\n",
    "filtered_cardinal_directions.head()"
   ]
  },
  {
   "cell_type": "code",
   "execution_count": 16,
   "metadata": {},
   "outputs": [
    {
     "name": "stdout",
     "output_type": "stream",
     "text": [
      "Number of rows: 248\n",
      "['GERMANY' 'UNITED KINGDOM' 'DENMARK' 'CANADA' 'UNITED STATES' 'IRELAND'\n",
      " 'FRANCE' 'SPAIN' 'AZORES' 'GREENLAND' 'ICELAND' 'INTERNATIONAL WATERS']\n",
      "[nan 'QUEBEC' 'NEW YORK' 'ILLINOIS' 'ONTARIO' 'NOVA SCOTIA'\n",
      " 'BRITISH COLUMBIA' 'NORTHWEST TERRITORIES' 'MANITOBA' 'ALBERTA'\n",
      " 'NEWFOUNDLAND AND LABRADOR' 'NEW BRUNSWICK' 'SOUTH CAROLINA'\n",
      " 'PRINCE EDWARD ISLAND']\n"
     ]
    }
   ],
   "source": [
    "unique_countries = filtered_cardinal_directions[\"CountryID_DisplayEng\"].unique()\n",
    "unique_provinces = filtered_cardinal_directions[\"ProvinceID_DisplayEng\"].unique()\n",
    "\n",
    "print(f\"Number of rows: {len(filtered_cardinal_directions)}\")\n",
    "print(unique_countries)\n",
    "print(unique_provinces)"
   ]
  },
  {
   "cell_type": "code",
   "execution_count": 17,
   "metadata": {},
   "outputs": [],
   "source": [
    "def calculate_cardinal_directions(row):\n",
    "    if(row[\"CountryID_DisplayEng\"] in COUNTRIES_CARDINAL_DIRECTIONS):\n",
    "        return COUNTRIES_CARDINAL_DIRECTIONS[row[\"CountryID_DisplayEng\"]];\n",
    "    if not pd.isna(row[\"OceanID_DisplayEng\"]):\n",
    "        if(row[\"OceanID_DisplayEng\"] in OCEAN_CARDINAL_DIRECTIONS):\n",
    "            return OCEAN_CARDINAL_DIRECTIONS[row[\"OceanID_DisplayEng\"]]\n",
    "    return [np.nan, np.nan]"
   ]
  },
  {
   "cell_type": "code",
   "execution_count": 18,
   "metadata": {},
   "outputs": [],
   "source": [
    "df_handling_cardinal_directions = df.copy()\n",
    "for idx, row in filtered_cardinal_directions.iterrows():\n",
    "    car_dir_lat, car_dir_lon = calculate_cardinal_directions(row)  #New values\n",
    "    #Update data in original df\n",
    "    df_handling_cardinal_directions.at[idx, \"LatEnum_DisplayEng\"] = car_dir_lat        \n",
    "    df_handling_cardinal_directions.at[idx, \"LongEnum_DisplayEng\"] = car_dir_lon "
   ]
  },
  {
   "cell_type": "code",
   "execution_count": 19,
   "metadata": {},
   "outputs": [],
   "source": [
    "df = df_handling_cardinal_directions.copy()"
   ]
  },
  {
   "cell_type": "markdown",
   "metadata": {},
   "source": [
    "#### Latitude and Longitude\n",
    "We have 4 columns Latitude\tLatEnum_DisplayEng\tLongitude\tLongEnum_DisplayEng, we could delete the displays and add signs to the coordinates."
   ]
  },
  {
   "cell_type": "code",
   "execution_count": 21,
   "metadata": {},
   "outputs": [],
   "source": [
    "#Latitude and Longitude columns are in numeric format\n",
    "df[\"Latitude\"] = df[\"Latitude\"].astype(float)\n",
    "df[\"Longitude\"] = df[\"Longitude\"].astype(float)\n",
    "\n",
    "#Apply signs to Latitude and Longitude based on orientation columns\n",
    "#LatEnum_DisplayEng: Positive if \"N\" (North), Negative if \"S\" (South)\n",
    "df[\"Latitude\"] = df[\"Latitude\"] * df[\"LatEnum_DisplayEng\"].apply(lambda x: 1 if x == \"N\" else -1)\n",
    "\n",
    "#LongEnum_DisplayEng: Positive if \"E\" (East), Negative if \"W\" (West)\n",
    "df[\"Longitude\"] = df[\"Longitude\"] * df[\"LongEnum_DisplayEng\"].apply(lambda x: 1 if x == \"E\" else -1)\n",
    "\n",
    "#Drop the orientation columns since they are no longer needed\n",
    "df.drop(columns=[\"LatEnum_DisplayEng\", \"LongEnum_DisplayEng\"], inplace=True)"
   ]
  },
  {
   "cell_type": "markdown",
   "metadata": {},
   "source": [
    "Now we can handle null values. We dont have nulls but we have 0,0 values. "
   ]
  },
  {
   "cell_type": "code",
   "execution_count": 23,
   "metadata": {},
   "outputs": [
    {
     "name": "stdout",
     "output_type": "stream",
     "text": [
      "Number of rows: 1501\n"
     ]
    }
   ],
   "source": [
    "df_handling_lat_lon = df.copy(); \n",
    "filtered_df_lat_lon = df[(df_handling_lat_lon[\"Latitude\"] == 0) & (df_handling_lat_lon[\"Longitude\"] == 0)]\n",
    "print(f\"Number of rows: {len(filtered_df_lat_lon)}\")"
   ]
  },
  {
   "cell_type": "code",
   "execution_count": 24,
   "metadata": {},
   "outputs": [
    {
     "data": {
      "text/html": [
       "<div>\n",
       "<style scoped>\n",
       "    .dataframe tbody tr th:only-of-type {\n",
       "        vertical-align: middle;\n",
       "    }\n",
       "\n",
       "    .dataframe tbody tr th {\n",
       "        vertical-align: top;\n",
       "    }\n",
       "\n",
       "    .dataframe thead th {\n",
       "        text-align: right;\n",
       "    }\n",
       "</style>\n",
       "<table border=\"1\" class=\"dataframe\">\n",
       "  <thead>\n",
       "    <tr style=\"text-align: right;\">\n",
       "      <th></th>\n",
       "      <th>Latitude</th>\n",
       "      <th>Longitude</th>\n",
       "      <th>CountryID_DisplayEng</th>\n",
       "      <th>OccRegionID_DisplayEng</th>\n",
       "      <th>OceanID_DisplayEng</th>\n",
       "      <th>ProvinceID_DisplayEng</th>\n",
       "      <th>RespRegionID_DisplayEng</th>\n",
       "    </tr>\n",
       "  </thead>\n",
       "  <tbody>\n",
       "    <tr>\n",
       "      <th>14</th>\n",
       "      <td>-0.0</td>\n",
       "      <td>-0.0</td>\n",
       "      <td>INTERNATIONAL WATERS</td>\n",
       "      <td>FOREIGN</td>\n",
       "      <td>NORTH ATLANTIC OCEAN</td>\n",
       "      <td>NaN</td>\n",
       "      <td>HEAD OFFICE</td>\n",
       "    </tr>\n",
       "    <tr>\n",
       "      <th>24</th>\n",
       "      <td>0.0</td>\n",
       "      <td>-0.0</td>\n",
       "      <td>CANADA</td>\n",
       "      <td>PACIFIC</td>\n",
       "      <td>NaN</td>\n",
       "      <td>BRITISH COLUMBIA</td>\n",
       "      <td>PACIFIC</td>\n",
       "    </tr>\n",
       "    <tr>\n",
       "      <th>30</th>\n",
       "      <td>-0.0</td>\n",
       "      <td>-0.0</td>\n",
       "      <td>INTERNATIONAL WATERS</td>\n",
       "      <td>FOREIGN</td>\n",
       "      <td>NORTH ATLANTIC OCEAN</td>\n",
       "      <td>NaN</td>\n",
       "      <td>HEAD OFFICE</td>\n",
       "    </tr>\n",
       "    <tr>\n",
       "      <th>86</th>\n",
       "      <td>0.0</td>\n",
       "      <td>-0.0</td>\n",
       "      <td>CANADA</td>\n",
       "      <td>ATLANTIC</td>\n",
       "      <td>NaN</td>\n",
       "      <td>NOVA SCOTIA</td>\n",
       "      <td>ATLANTIC</td>\n",
       "    </tr>\n",
       "    <tr>\n",
       "      <th>100</th>\n",
       "      <td>0.0</td>\n",
       "      <td>-0.0</td>\n",
       "      <td>CANADA</td>\n",
       "      <td>PACIFIC</td>\n",
       "      <td>NaN</td>\n",
       "      <td>BRITISH COLUMBIA</td>\n",
       "      <td>PACIFIC</td>\n",
       "    </tr>\n",
       "    <tr>\n",
       "      <th>234</th>\n",
       "      <td>-0.0</td>\n",
       "      <td>-0.0</td>\n",
       "      <td>CANADA</td>\n",
       "      <td>PACIFIC</td>\n",
       "      <td>NaN</td>\n",
       "      <td>BRITISH COLUMBIA</td>\n",
       "      <td>PACIFIC</td>\n",
       "    </tr>\n",
       "    <tr>\n",
       "      <th>449</th>\n",
       "      <td>-0.0</td>\n",
       "      <td>-0.0</td>\n",
       "      <td>UNITED STATES</td>\n",
       "      <td>FOREIGN</td>\n",
       "      <td>NaN</td>\n",
       "      <td>NORTH CAROLINA</td>\n",
       "      <td>HEAD OFFICE</td>\n",
       "    </tr>\n",
       "    <tr>\n",
       "      <th>467</th>\n",
       "      <td>0.0</td>\n",
       "      <td>-0.0</td>\n",
       "      <td>CANADA</td>\n",
       "      <td>ATLANTIC</td>\n",
       "      <td>NaN</td>\n",
       "      <td>QUEBEC</td>\n",
       "      <td>ATLANTIC</td>\n",
       "    </tr>\n",
       "    <tr>\n",
       "      <th>890</th>\n",
       "      <td>-0.0</td>\n",
       "      <td>-0.0</td>\n",
       "      <td>CANADA</td>\n",
       "      <td>QUEBEC</td>\n",
       "      <td>NaN</td>\n",
       "      <td>QUEBEC</td>\n",
       "      <td>QUEBEC</td>\n",
       "    </tr>\n",
       "    <tr>\n",
       "      <th>1224</th>\n",
       "      <td>-0.0</td>\n",
       "      <td>-0.0</td>\n",
       "      <td>CANADA</td>\n",
       "      <td>QUEBEC</td>\n",
       "      <td>NaN</td>\n",
       "      <td>QUEBEC</td>\n",
       "      <td>QUEBEC</td>\n",
       "    </tr>\n",
       "  </tbody>\n",
       "</table>\n",
       "</div>"
      ],
      "text/plain": [
       "      Latitude  Longitude  CountryID_DisplayEng OccRegionID_DisplayEng  \\\n",
       "14        -0.0       -0.0  INTERNATIONAL WATERS                FOREIGN   \n",
       "24         0.0       -0.0                CANADA                PACIFIC   \n",
       "30        -0.0       -0.0  INTERNATIONAL WATERS                FOREIGN   \n",
       "86         0.0       -0.0                CANADA               ATLANTIC   \n",
       "100        0.0       -0.0                CANADA                PACIFIC   \n",
       "234       -0.0       -0.0                CANADA                PACIFIC   \n",
       "449       -0.0       -0.0         UNITED STATES                FOREIGN   \n",
       "467        0.0       -0.0                CANADA               ATLANTIC   \n",
       "890       -0.0       -0.0                CANADA                 QUEBEC   \n",
       "1224      -0.0       -0.0                CANADA                 QUEBEC   \n",
       "\n",
       "        OceanID_DisplayEng ProvinceID_DisplayEng RespRegionID_DisplayEng  \n",
       "14    NORTH ATLANTIC OCEAN                   NaN             HEAD OFFICE  \n",
       "24                     NaN      BRITISH COLUMBIA                 PACIFIC  \n",
       "30    NORTH ATLANTIC OCEAN                   NaN             HEAD OFFICE  \n",
       "86                     NaN           NOVA SCOTIA                ATLANTIC  \n",
       "100                    NaN      BRITISH COLUMBIA                 PACIFIC  \n",
       "234                    NaN      BRITISH COLUMBIA                 PACIFIC  \n",
       "449                    NaN        NORTH CAROLINA             HEAD OFFICE  \n",
       "467                    NaN                QUEBEC                ATLANTIC  \n",
       "890                    NaN                QUEBEC                  QUEBEC  \n",
       "1224                   NaN                QUEBEC                  QUEBEC  "
      ]
     },
     "execution_count": 24,
     "metadata": {},
     "output_type": "execute_result"
    }
   ],
   "source": [
    "columns_to_include.remove(\"LatEnum_DisplayEng\")\n",
    "columns_to_include.remove(\"LongEnum_DisplayEng\")\n",
    "\n",
    "filtered_df_lat_lon = filtered_df_lat_lon[columns_to_include]\n",
    "filtered_df_lat_lon.head(10)"
   ]
  },
  {
   "cell_type": "markdown",
   "metadata": {},
   "source": []
  },
  {
   "cell_type": "code",
   "execution_count": 26,
   "metadata": {},
   "outputs": [],
   "source": [
    "def calculate_coordinates(row):\n",
    "    if(row[\"OceanID_DisplayEng\"] is not None and not pd.isna(row[\"OceanID_DisplayEng\"])):\n",
    "        return OCEAN_COORDINATES[row[\"OceanID_DisplayEng\"]]\n",
    "        \n",
    "    elif row[\"CountryID_DisplayEng\"] == \"INTERNATIONAL WATERS\":\n",
    "        if(row[\"OceanID_DisplayEng\"] is not None): \n",
    "            return OCEAN_COORDINATES[row[\"OceanID_DisplayEng\"]]\n",
    "            \n",
    "    elif(row[\"OccRegionID_DisplayEng\"] in OCEAN_PROVINCES_COORDINATES):\n",
    "        if(row[\"ProvinceID_DisplayEng\"] in OCEAN_PROVINCES_COORDINATES[row[\"OccRegionID_DisplayEng\"]]):\n",
    "            return OCEAN_PROVINCES_COORDINATES[row[\"OccRegionID_DisplayEng\"]][row[\"ProvinceID_DisplayEng\"]]\n",
    "\n",
    "    elif(row[\"CountryID_DisplayEng\"] in COUNTRY_PROVINCE_COORDINATES):\n",
    "        if(row[\"ProvinceID_DisplayEng\"] in COUNTRY_PROVINCE_COORDINATES[row[\"CountryID_DisplayEng\"]]):\n",
    "            return COUNTRY_PROVINCE_COORDINATES[row[\"CountryID_DisplayEng\"]][row[\"ProvinceID_DisplayEng\"]]\n",
    "    \n",
    "    elif(pd.isna(row[\"ProvinceID_DisplayEng\"]) and row[\"OccRegionID_DisplayEng\"] == \"FOREIGN\"):\n",
    "        if(row[\"CountryID_DisplayEng\"] in COUNTRIES_COORDINATES):\n",
    "            return COUNTRIES_COORDINATES[row[\"CountryID_DisplayEng\"]]\n",
    "    return [0,0]"
   ]
  },
  {
   "cell_type": "code",
   "execution_count": 27,
   "metadata": {},
   "outputs": [],
   "source": [
    "for idx, row in filtered_df_lat_lon.iterrows():\n",
    "    new_lat, new_lon = calculate_coordinates(row)  #New values\n",
    "    #Update data in original df\n",
    "    df_handling_lat_lon.at[idx, \"Latitude\"] = new_lat        \n",
    "    df_handling_lat_lon.at[idx, \"Longitude\"] = new_lon       \n"
   ]
  },
  {
   "cell_type": "code",
   "execution_count": 28,
   "metadata": {},
   "outputs": [
    {
     "data": {
      "text/html": [
       "<div>\n",
       "<style scoped>\n",
       "    .dataframe tbody tr th:only-of-type {\n",
       "        vertical-align: middle;\n",
       "    }\n",
       "\n",
       "    .dataframe tbody tr th {\n",
       "        vertical-align: top;\n",
       "    }\n",
       "\n",
       "    .dataframe thead th {\n",
       "        text-align: right;\n",
       "    }\n",
       "</style>\n",
       "<table border=\"1\" class=\"dataframe\">\n",
       "  <thead>\n",
       "    <tr style=\"text-align: right;\">\n",
       "      <th></th>\n",
       "      <th>Latitude</th>\n",
       "      <th>Longitude</th>\n",
       "      <th>CountryID_DisplayEng</th>\n",
       "      <th>OccRegionID_DisplayEng</th>\n",
       "      <th>OceanID_DisplayEng</th>\n",
       "      <th>ProvinceID_DisplayEng</th>\n",
       "      <th>RespRegionID_DisplayEng</th>\n",
       "    </tr>\n",
       "  </thead>\n",
       "  <tbody>\n",
       "    <tr>\n",
       "      <th>3887</th>\n",
       "      <td>0.0</td>\n",
       "      <td>0.0</td>\n",
       "      <td>UNKNOWN</td>\n",
       "      <td>FOREIGN</td>\n",
       "      <td>NaN</td>\n",
       "      <td>NaN</td>\n",
       "      <td>HEAD OFFICE</td>\n",
       "    </tr>\n",
       "    <tr>\n",
       "      <th>6330</th>\n",
       "      <td>0.0</td>\n",
       "      <td>0.0</td>\n",
       "      <td>UNITED STATES</td>\n",
       "      <td>FOREIGN</td>\n",
       "      <td>NaN</td>\n",
       "      <td>NaN</td>\n",
       "      <td>ONTARIO</td>\n",
       "    </tr>\n",
       "    <tr>\n",
       "      <th>7321</th>\n",
       "      <td>0.0</td>\n",
       "      <td>0.0</td>\n",
       "      <td>UNITED STATES</td>\n",
       "      <td>FOREIGN</td>\n",
       "      <td>NaN</td>\n",
       "      <td>NaN</td>\n",
       "      <td>QUEBEC</td>\n",
       "    </tr>\n",
       "    <tr>\n",
       "      <th>8046</th>\n",
       "      <td>0.0</td>\n",
       "      <td>0.0</td>\n",
       "      <td>CANADA</td>\n",
       "      <td>WESTERN</td>\n",
       "      <td>NaN</td>\n",
       "      <td>NaN</td>\n",
       "      <td>WESTERN</td>\n",
       "    </tr>\n",
       "    <tr>\n",
       "      <th>9519</th>\n",
       "      <td>0.0</td>\n",
       "      <td>0.0</td>\n",
       "      <td>UNITED KINGDOM</td>\n",
       "      <td>WESTERN</td>\n",
       "      <td>NaN</td>\n",
       "      <td>NaN</td>\n",
       "      <td>WESTERN</td>\n",
       "    </tr>\n",
       "    <tr>\n",
       "      <th>15081</th>\n",
       "      <td>0.0</td>\n",
       "      <td>0.0</td>\n",
       "      <td>UNKNOWN</td>\n",
       "      <td>FOREIGN</td>\n",
       "      <td>NaN</td>\n",
       "      <td>NaN</td>\n",
       "      <td>HEAD OFFICE</td>\n",
       "    </tr>\n",
       "    <tr>\n",
       "      <th>15363</th>\n",
       "      <td>0.0</td>\n",
       "      <td>0.0</td>\n",
       "      <td>UNKNOWN</td>\n",
       "      <td>FOREIGN</td>\n",
       "      <td>NaN</td>\n",
       "      <td>NaN</td>\n",
       "      <td>HEAD OFFICE</td>\n",
       "    </tr>\n",
       "    <tr>\n",
       "      <th>17944</th>\n",
       "      <td>0.0</td>\n",
       "      <td>0.0</td>\n",
       "      <td>UNITED STATES</td>\n",
       "      <td>FOREIGN</td>\n",
       "      <td>NaN</td>\n",
       "      <td>NaN</td>\n",
       "      <td>ONTARIO</td>\n",
       "    </tr>\n",
       "    <tr>\n",
       "      <th>22465</th>\n",
       "      <td>0.0</td>\n",
       "      <td>0.0</td>\n",
       "      <td>MEXICO</td>\n",
       "      <td>QUEBEC</td>\n",
       "      <td>NaN</td>\n",
       "      <td>NaN</td>\n",
       "      <td>QUEBEC</td>\n",
       "    </tr>\n",
       "    <tr>\n",
       "      <th>22832</th>\n",
       "      <td>0.0</td>\n",
       "      <td>0.0</td>\n",
       "      <td>HONG KONG</td>\n",
       "      <td>WESTERN</td>\n",
       "      <td>NaN</td>\n",
       "      <td>NaN</td>\n",
       "      <td>WESTERN</td>\n",
       "    </tr>\n",
       "  </tbody>\n",
       "</table>\n",
       "</div>"
      ],
      "text/plain": [
       "       Latitude  Longitude CountryID_DisplayEng OccRegionID_DisplayEng  \\\n",
       "3887        0.0        0.0              UNKNOWN                FOREIGN   \n",
       "6330        0.0        0.0        UNITED STATES                FOREIGN   \n",
       "7321        0.0        0.0        UNITED STATES                FOREIGN   \n",
       "8046        0.0        0.0               CANADA                WESTERN   \n",
       "9519        0.0        0.0       UNITED KINGDOM                WESTERN   \n",
       "15081       0.0        0.0              UNKNOWN                FOREIGN   \n",
       "15363       0.0        0.0              UNKNOWN                FOREIGN   \n",
       "17944       0.0        0.0        UNITED STATES                FOREIGN   \n",
       "22465       0.0        0.0               MEXICO                 QUEBEC   \n",
       "22832       0.0        0.0            HONG KONG                WESTERN   \n",
       "\n",
       "      OceanID_DisplayEng ProvinceID_DisplayEng RespRegionID_DisplayEng  \n",
       "3887                 NaN                   NaN             HEAD OFFICE  \n",
       "6330                 NaN                   NaN                 ONTARIO  \n",
       "7321                 NaN                   NaN                  QUEBEC  \n",
       "8046                 NaN                   NaN                 WESTERN  \n",
       "9519                 NaN                   NaN                 WESTERN  \n",
       "15081                NaN                   NaN             HEAD OFFICE  \n",
       "15363                NaN                   NaN             HEAD OFFICE  \n",
       "17944                NaN                   NaN                 ONTARIO  \n",
       "22465                NaN                   NaN                  QUEBEC  \n",
       "22832                NaN                   NaN                 WESTERN  "
      ]
     },
     "execution_count": 28,
     "metadata": {},
     "output_type": "execute_result"
    }
   ],
   "source": [
    "filtered_df_lat_lon = df_handling_lat_lon[(df_handling_lat_lon[\"Latitude\"] == 0) & (df_handling_lat_lon[\"Longitude\"] == 0)]\n",
    "filtered_df_lat_lon = filtered_df_lat_lon[columns_to_include]\n",
    "filtered_df_lat_lon.head(10)"
   ]
  },
  {
   "cell_type": "code",
   "execution_count": 29,
   "metadata": {},
   "outputs": [
    {
     "name": "stdout",
     "output_type": "stream",
     "text": [
      "Number of rows: 36\n"
     ]
    }
   ],
   "source": [
    "print(f\"Number of rows: {len(filtered_df_lat_lon)}\")"
   ]
  },
  {
   "cell_type": "markdown",
   "metadata": {},
   "source": [
    "We could delete those 36 registers as we dont have enough information to know its approximate location"
   ]
  },
  {
   "cell_type": "code",
   "execution_count": 31,
   "metadata": {},
   "outputs": [],
   "source": [
    "#Get index of the rows to delete \n",
    "rows_to_remove = df_handling_lat_lon[(df_handling_lat_lon[\"Latitude\"] == 0) & \n",
    "                                     (df_handling_lat_lon[\"Longitude\"] == 0)].index\n",
    "#Removing the rows \n",
    "df_handling_lat_lon = df_handling_lat_lon.drop(rows_to_remove)\n",
    "\n",
    "#Reseting index\n",
    "df_handling_lat_lon.reset_index(drop=True, inplace=True)"
   ]
  },
  {
   "cell_type": "code",
   "execution_count": 32,
   "metadata": {},
   "outputs": [],
   "source": [
    "df = df_handling_lat_lon.copy()"
   ]
  },
  {
   "cell_type": "markdown",
   "metadata": {},
   "source": [
    "#### CountryID_DisplayEng\n",
    "Doesn't have null values \n",
    "#### OccClassID\n",
    "It has CLASS 5 for the majority of the dataset, we could delete this feature"
   ]
  },
  {
   "cell_type": "code",
   "execution_count": 34,
   "metadata": {},
   "outputs": [],
   "source": [
    "df = df.drop(columns=['OccClassID_DisplayEng'])"
   ]
  },
  {
   "cell_type": "markdown",
   "metadata": {},
   "source": [
    "#### OccDate\n",
    "We could delete the hour in the date as we have a time feature and have yyyy-MM-dd"
   ]
  },
  {
   "cell_type": "code",
   "execution_count": 36,
   "metadata": {},
   "outputs": [],
   "source": [
    "#Converting the OccDate column to datetime format\n",
    "df[\"OccDate\"] = pd.to_datetime(df[\"OccDate\"], format=\"%m/%d/%Y %I:%M:%S %p\")\n",
    "\n",
    "#Removing the time part by formatting to only include the date\n",
    "df[\"OccDate\"] = df[\"OccDate\"].dt.date"
   ]
  },
  {
   "attachments": {},
   "cell_type": "markdown",
   "metadata": {},
   "source": [
    "#### OccIncidentTypeID_DisplayEng\n",
    "This value has many null values because it only has values when the OccType is an incident.\n",
    "#### OccRegionID_DisplayEng\n",
    "As we have just have 10 values, they are not specific and we have the field ProvinceID_DisplayEng, we could delete it. "
   ]
  },
  {
   "cell_type": "code",
   "execution_count": 38,
   "metadata": {},
   "outputs": [
    {
     "name": "stdout",
     "output_type": "stream",
     "text": [
      "['ATLANTIC' 'CENTRAL' 'FOREIGN' 'ONTARIO' 'PACIFIC' 'QUEBEC' 'WESTERN'\n",
      " 'HEAD OFFICE' 'NORTH ATLANTIC' nan]\n"
     ]
    }
   ],
   "source": [
    "region_values = df[\"OccRegionID_DisplayEng\"].unique()\n",
    "print(region_values)"
   ]
  },
  {
   "cell_type": "code",
   "execution_count": 39,
   "metadata": {},
   "outputs": [],
   "source": [
    "df = df.drop(columns=[\"OccRegionID_DisplayEng\"])"
   ]
  },
  {
   "cell_type": "markdown",
   "metadata": {},
   "source": [
    "#### OccTime\n",
    "We could set a default time of 12:00 pm for the 301 empty rows"
   ]
  },
  {
   "cell_type": "code",
   "execution_count": 41,
   "metadata": {},
   "outputs": [],
   "source": [
    "df[\"OccTime\"] = pd.to_datetime(\n",
    "    df[\"OccTime\"], \n",
    "    format=\"%H:%M:%S\",  \n",
    "    errors=\"coerce\"\n",
    ").fillna(pd.to_datetime(\"12:00:00\", format=\"%H:%M:%S\"))\n",
    "\n",
    "df[\"OccTime\"] = df[\"OccTime\"].dt.time\n"
   ]
  },
  {
   "cell_type": "markdown",
   "metadata": {},
   "source": [
    "#### OccTypeID_DisplayEng\n",
    "Doesnt hava null values \n",
    "#### TsbInvolveID_DisplayEng                \n",
    "We could delete this column because we have more than 11.000 nulls "
   ]
  },
  {
   "cell_type": "code",
   "execution_count": 43,
   "metadata": {},
   "outputs": [],
   "source": [
    "df = df.drop(columns = \"TsbInvolveID_DisplayEng\")"
   ]
  },
  {
   "cell_type": "markdown",
   "metadata": {},
   "source": [
    "#### OceanID_DisplayEng                     \n",
    "It has more than 47.000 nulls because is showing the ocean locations, but we already have lat and lon and we could use that to know the location, so we can delete it."
   ]
  },
  {
   "cell_type": "code",
   "execution_count": 45,
   "metadata": {},
   "outputs": [],
   "source": [
    "df = df.drop(columns = \"OceanID_DisplayEng\")"
   ]
  },
  {
   "cell_type": "markdown",
   "metadata": {},
   "source": [
    "#### PositionTypeEnum_DisplayEng                \n",
    "All values are using the same position type lon and lat, so we can delete this column"
   ]
  },
  {
   "cell_type": "code",
   "execution_count": 47,
   "metadata": {},
   "outputs": [],
   "source": [
    "df = df.drop(columns = \"PositionTypeEnum_DisplayEng\")"
   ]
  },
  {
   "cell_type": "markdown",
   "metadata": {},
   "source": [
    "#### ProvinceID_DisplayEng                   \n",
    "We have 2442 nulls, we can know the province because of the coordinates "
   ]
  },
  {
   "cell_type": "code",
   "execution_count": 49,
   "metadata": {},
   "outputs": [],
   "source": [
    "from common.export_temp_csv import export_csv_temp"
   ]
  },
  {
   "cell_type": "code",
   "execution_count": 50,
   "metadata": {},
   "outputs": [
    {
     "name": "stdout",
     "output_type": "stream",
     "text": [
      "Nulls: 2406\n"
     ]
    }
   ],
   "source": [
    "df_handling_null_province = df.copy()\n",
    "df_handling_null_province = df_handling_null_province[df_handling_null_province[\"ProvinceID_DisplayEng\"].isna()]\n",
    "print(f\"Nulls: {len(df_handling_null_province)}\")"
   ]
  },
  {
   "cell_type": "code",
   "execution_count": 51,
   "metadata": {},
   "outputs": [],
   "source": [
    "#export_csv_temp(df_handling_null_province, \"null_provinces\")"
   ]
  },
  {
   "cell_type": "markdown",
   "metadata": {},
   "source": [
    "With OpenCage API we can fill some of the empty Provinces. Then we could convert it into a dicctionary to fill the provinces in the original dataset"
   ]
  },
  {
   "cell_type": "code",
   "execution_count": 53,
   "metadata": {},
   "outputs": [],
   "source": [
    "from preprocessing.region_id.fill_regions_process import fill_regions_in_temp"
   ]
  },
  {
   "cell_type": "code",
   "execution_count": 54,
   "metadata": {},
   "outputs": [],
   "source": [
    "#fill_regions_in_temp(df_handling_null_province.copy())"
   ]
  },
  {
   "cell_type": "code",
   "execution_count": 55,
   "metadata": {},
   "outputs": [],
   "source": [
    "df_temp_filled_provinces = load_data_from_temp(\"null_provinces_filled.csv\")"
   ]
  },
  {
   "cell_type": "code",
   "execution_count": 56,
   "metadata": {},
   "outputs": [],
   "source": [
    "province_mapping = df_temp_filled_provinces.set_index('OccID')['PROVINCE'].to_dict()\n",
    "df['ProvinceID_DisplayEng'] = df.apply(\n",
    "    lambda row: province_mapping[row['OccID']]\n",
    "    if pd.isnull(row['ProvinceID_DisplayEng']) and row['OccID'] in province_mapping\n",
    "    else row['ProvinceID_DisplayEng'],\n",
    "    axis=1\n",
    ")"
   ]
  },
  {
   "cell_type": "code",
   "execution_count": 57,
   "metadata": {},
   "outputs": [
    {
     "name": "stdout",
     "output_type": "stream",
     "text": [
      "Nulls: 1623\n"
     ]
    },
    {
     "data": {
      "text/html": [
       "<div>\n",
       "<style scoped>\n",
       "    .dataframe tbody tr th:only-of-type {\n",
       "        vertical-align: middle;\n",
       "    }\n",
       "\n",
       "    .dataframe tbody tr th {\n",
       "        vertical-align: top;\n",
       "    }\n",
       "\n",
       "    .dataframe thead th {\n",
       "        text-align: right;\n",
       "    }\n",
       "</style>\n",
       "<table border=\"1\" class=\"dataframe\">\n",
       "  <thead>\n",
       "    <tr style=\"text-align: right;\">\n",
       "      <th></th>\n",
       "      <th>OccID</th>\n",
       "      <th>Latitude</th>\n",
       "      <th>Longitude</th>\n",
       "      <th>CountryID_DisplayEng</th>\n",
       "      <th>OccDate</th>\n",
       "      <th>OccIncidentTypeID_DisplayEng</th>\n",
       "      <th>OccTime</th>\n",
       "      <th>OccTypeID_DisplayEng</th>\n",
       "      <th>ProvinceID_DisplayEng</th>\n",
       "      <th>InitTSBNotifDate</th>\n",
       "      <th>ReportedByID_DisplayEng</th>\n",
       "      <th>RespRegionID_DisplayEng</th>\n",
       "      <th>Summary</th>\n",
       "      <th>InjuriesEnum_DisplayEng</th>\n",
       "      <th>DeployedEnum_DisplayEng</th>\n",
       "      <th>RegistrationNo</th>\n",
       "      <th>AircraftTypeID_DisplayEng</th>\n",
       "      <th>AircraftMakeID_DisplayEng</th>\n",
       "      <th>OrganizationID_DisplayEng</th>\n",
       "      <th>OperatorTypeID_DisplayEng</th>\n",
       "      <th>WeightCategoryID_DisplayEng</th>\n",
       "      <th>LandingGearID_DisplayEng</th>\n",
       "      <th>WakeTurbulenceCategoryID_DisplayEng</th>\n",
       "      <th>YearOfManuf</th>\n",
       "      <th>NumberOfEngine</th>\n",
       "      <th>DamageLevelID_DisplayEng</th>\n",
       "      <th>OperationTypeID_DisplayEng</th>\n",
       "      <th>ICAODepart</th>\n",
       "    </tr>\n",
       "  </thead>\n",
       "  <tbody>\n",
       "    <tr>\n",
       "      <th>8</th>\n",
       "      <td>150161</td>\n",
       "      <td>51.300000</td>\n",
       "      <td>-128.816667</td>\n",
       "      <td>CANADA</td>\n",
       "      <td>2017-07-07</td>\n",
       "      <td>EMERGENCY/PRIORITY (xi)</td>\n",
       "      <td>01:10:00</td>\n",
       "      <td>INCIDENT</td>\n",
       "      <td>UNKNOWN</td>\n",
       "      <td>7/7/2017 12:00:00 AM</td>\n",
       "      <td>NAV CANADA</td>\n",
       "      <td>PACIFIC</td>\n",
       "      <td>N174DZ a Boeing 767-300 aircraft operated by D...</td>\n",
       "      <td>No</td>\n",
       "      <td>No</td>\n",
       "      <td>N174DZ</td>\n",
       "      <td>AEROPLANE</td>\n",
       "      <td>BOEING</td>\n",
       "      <td>DELTA AIR LINES</td>\n",
       "      <td>COMMERCIAL</td>\n",
       "      <td>27001-272000 KG (59526-599650 LBS)</td>\n",
       "      <td>TRICYCLE ALL RETRACT</td>\n",
       "      <td>HEAVY</td>\n",
       "      <td>1998</td>\n",
       "      <td>2</td>\n",
       "      <td>NONE</td>\n",
       "      <td>AIR TRANSPORT</td>\n",
       "      <td>KSEA</td>\n",
       "    </tr>\n",
       "    <tr>\n",
       "      <th>14</th>\n",
       "      <td>150155</td>\n",
       "      <td>48.000000</td>\n",
       "      <td>-50.000000</td>\n",
       "      <td>INTERNATIONAL WATERS</td>\n",
       "      <td>2017-07-02</td>\n",
       "      <td>UNABLE TO PERFORM (vi)</td>\n",
       "      <td>05:30:00</td>\n",
       "      <td>INCIDENT</td>\n",
       "      <td>UNKNOWN</td>\n",
       "      <td>7/4/2017 12:00:00 AM</td>\n",
       "      <td>OPERATOR</td>\n",
       "      <td>HEAD OFFICE</td>\n",
       "      <td>C-GHLQ a Boeing 767-300 aircraft operated by A...</td>\n",
       "      <td>Yes</td>\n",
       "      <td>No</td>\n",
       "      <td>C-GHLQ</td>\n",
       "      <td>AEROPLANE</td>\n",
       "      <td>BOEING</td>\n",
       "      <td>AIR CANADA ROUGE</td>\n",
       "      <td>COMMERCIAL</td>\n",
       "      <td>27001-272000 KG (59526-599650 LBS)</td>\n",
       "      <td>TRICYCLE ALL RETRACT</td>\n",
       "      <td>HEAVY</td>\n",
       "      <td>2001</td>\n",
       "      <td>2</td>\n",
       "      <td>NONE</td>\n",
       "      <td>AIR TRANSPORT</td>\n",
       "      <td>CYUL</td>\n",
       "    </tr>\n",
       "    <tr>\n",
       "      <th>30</th>\n",
       "      <td>150130</td>\n",
       "      <td>48.000000</td>\n",
       "      <td>-50.000000</td>\n",
       "      <td>INTERNATIONAL WATERS</td>\n",
       "      <td>2017-06-25</td>\n",
       "      <td>UNABLE TO PERFORM (vi)</td>\n",
       "      <td>09:10:00</td>\n",
       "      <td>INCIDENT</td>\n",
       "      <td>UNKNOWN</td>\n",
       "      <td>6/27/2017 12:00:00 AM</td>\n",
       "      <td>OPERATOR</td>\n",
       "      <td>HEAD OFFICE</td>\n",
       "      <td>C-GHLV a Boeing 767-300 aircraft operated by A...</td>\n",
       "      <td>No</td>\n",
       "      <td>No</td>\n",
       "      <td>C-GHLV</td>\n",
       "      <td>AEROPLANE</td>\n",
       "      <td>BOEING</td>\n",
       "      <td>AIR CANADA ROUGE</td>\n",
       "      <td>COMMERCIAL</td>\n",
       "      <td>27001-272000 KG (59526-599650 LBS)</td>\n",
       "      <td>TRICYCLE ALL RETRACT</td>\n",
       "      <td>HEAVY</td>\n",
       "      <td>2001</td>\n",
       "      <td>2</td>\n",
       "      <td>NONE</td>\n",
       "      <td>AIR TRANSPORT</td>\n",
       "      <td>CYYZ</td>\n",
       "    </tr>\n",
       "    <tr>\n",
       "      <th>49</th>\n",
       "      <td>150107</td>\n",
       "      <td>59.266667</td>\n",
       "      <td>-46.316667</td>\n",
       "      <td>CANADA</td>\n",
       "      <td>2017-06-21</td>\n",
       "      <td>ENGINE (i)</td>\n",
       "      <td>17:54:00</td>\n",
       "      <td>INCIDENT</td>\n",
       "      <td>UNKNOWN</td>\n",
       "      <td>6/21/2017 12:00:00 AM</td>\n",
       "      <td>NAV CANADA</td>\n",
       "      <td>ATLANTIC</td>\n",
       "      <td>C-GOAB a private Dassault Falcon 2000EX aircra...</td>\n",
       "      <td>No</td>\n",
       "      <td>No</td>\n",
       "      <td>C-GOAB</td>\n",
       "      <td>AEROPLANE</td>\n",
       "      <td>DASSAULT-BREGUET</td>\n",
       "      <td>Starlink Aviation Inc</td>\n",
       "      <td>PRIVATE</td>\n",
       "      <td>5701-27000 KG   (12566-59525 LBS)</td>\n",
       "      <td>TRICYCLE ALL RETRACT</td>\n",
       "      <td>MEDIUM</td>\n",
       "      <td>2006</td>\n",
       "      <td>2</td>\n",
       "      <td>NONE</td>\n",
       "      <td>PLEASURE/TRAVEL</td>\n",
       "      <td>EKAH</td>\n",
       "    </tr>\n",
       "    <tr>\n",
       "      <th>63</th>\n",
       "      <td>150089</td>\n",
       "      <td>48.000000</td>\n",
       "      <td>-44.500000</td>\n",
       "      <td>CANADA</td>\n",
       "      <td>2017-06-16</td>\n",
       "      <td>EMERGENCY/PRIORITY (xi)</td>\n",
       "      <td>14:04:00</td>\n",
       "      <td>INCIDENT</td>\n",
       "      <td>UNKNOWN</td>\n",
       "      <td>6/16/2017 12:00:00 AM</td>\n",
       "      <td>NAV CANADA</td>\n",
       "      <td>ATLANTIC</td>\n",
       "      <td>C-GFAT an Airbus 310-300 aircraft operated by ...</td>\n",
       "      <td>No</td>\n",
       "      <td>No</td>\n",
       "      <td>C-GFAT</td>\n",
       "      <td>AEROPLANE</td>\n",
       "      <td>AIRBUS</td>\n",
       "      <td>AIR TRANSAT</td>\n",
       "      <td>COMMERCIAL</td>\n",
       "      <td>27001-272000 KG (59526-599650 LBS)</td>\n",
       "      <td>TRICYCLE ALL RETRACT</td>\n",
       "      <td>HEAVY</td>\n",
       "      <td>1991</td>\n",
       "      <td>2</td>\n",
       "      <td>NONE</td>\n",
       "      <td>AIR TRANSPORT</td>\n",
       "      <td>LPPT</td>\n",
       "    </tr>\n",
       "  </tbody>\n",
       "</table>\n",
       "</div>"
      ],
      "text/plain": [
       "     OccID   Latitude   Longitude  CountryID_DisplayEng     OccDate  \\\n",
       "8   150161  51.300000 -128.816667                CANADA  2017-07-07   \n",
       "14  150155  48.000000  -50.000000  INTERNATIONAL WATERS  2017-07-02   \n",
       "30  150130  48.000000  -50.000000  INTERNATIONAL WATERS  2017-06-25   \n",
       "49  150107  59.266667  -46.316667                CANADA  2017-06-21   \n",
       "63  150089  48.000000  -44.500000                CANADA  2017-06-16   \n",
       "\n",
       "   OccIncidentTypeID_DisplayEng   OccTime OccTypeID_DisplayEng  \\\n",
       "8       EMERGENCY/PRIORITY (xi)  01:10:00             INCIDENT   \n",
       "14       UNABLE TO PERFORM (vi)  05:30:00             INCIDENT   \n",
       "30       UNABLE TO PERFORM (vi)  09:10:00             INCIDENT   \n",
       "49                   ENGINE (i)  17:54:00             INCIDENT   \n",
       "63      EMERGENCY/PRIORITY (xi)  14:04:00             INCIDENT   \n",
       "\n",
       "   ProvinceID_DisplayEng       InitTSBNotifDate ReportedByID_DisplayEng  \\\n",
       "8                UNKNOWN   7/7/2017 12:00:00 AM              NAV CANADA   \n",
       "14               UNKNOWN   7/4/2017 12:00:00 AM                OPERATOR   \n",
       "30               UNKNOWN  6/27/2017 12:00:00 AM                OPERATOR   \n",
       "49               UNKNOWN  6/21/2017 12:00:00 AM              NAV CANADA   \n",
       "63               UNKNOWN  6/16/2017 12:00:00 AM              NAV CANADA   \n",
       "\n",
       "   RespRegionID_DisplayEng                                            Summary  \\\n",
       "8                  PACIFIC  N174DZ a Boeing 767-300 aircraft operated by D...   \n",
       "14             HEAD OFFICE  C-GHLQ a Boeing 767-300 aircraft operated by A...   \n",
       "30             HEAD OFFICE  C-GHLV a Boeing 767-300 aircraft operated by A...   \n",
       "49                ATLANTIC  C-GOAB a private Dassault Falcon 2000EX aircra...   \n",
       "63                ATLANTIC  C-GFAT an Airbus 310-300 aircraft operated by ...   \n",
       "\n",
       "   InjuriesEnum_DisplayEng DeployedEnum_DisplayEng RegistrationNo  \\\n",
       "8                       No                      No         N174DZ   \n",
       "14                     Yes                      No         C-GHLQ   \n",
       "30                      No                      No         C-GHLV   \n",
       "49                      No                      No         C-GOAB   \n",
       "63                      No                      No         C-GFAT   \n",
       "\n",
       "   AircraftTypeID_DisplayEng AircraftMakeID_DisplayEng  \\\n",
       "8                  AEROPLANE                    BOEING   \n",
       "14                 AEROPLANE                    BOEING   \n",
       "30                 AEROPLANE                    BOEING   \n",
       "49                 AEROPLANE          DASSAULT-BREGUET   \n",
       "63                 AEROPLANE                    AIRBUS   \n",
       "\n",
       "   OrganizationID_DisplayEng OperatorTypeID_DisplayEng  \\\n",
       "8            DELTA AIR LINES                COMMERCIAL   \n",
       "14          AIR CANADA ROUGE                COMMERCIAL   \n",
       "30          AIR CANADA ROUGE                COMMERCIAL   \n",
       "49     Starlink Aviation Inc                   PRIVATE   \n",
       "63               AIR TRANSAT                COMMERCIAL   \n",
       "\n",
       "           WeightCategoryID_DisplayEng LandingGearID_DisplayEng  \\\n",
       "8   27001-272000 KG (59526-599650 LBS)     TRICYCLE ALL RETRACT   \n",
       "14  27001-272000 KG (59526-599650 LBS)     TRICYCLE ALL RETRACT   \n",
       "30  27001-272000 KG (59526-599650 LBS)     TRICYCLE ALL RETRACT   \n",
       "49   5701-27000 KG   (12566-59525 LBS)     TRICYCLE ALL RETRACT   \n",
       "63  27001-272000 KG (59526-599650 LBS)     TRICYCLE ALL RETRACT   \n",
       "\n",
       "   WakeTurbulenceCategoryID_DisplayEng  YearOfManuf  NumberOfEngine  \\\n",
       "8                                HEAVY         1998               2   \n",
       "14                               HEAVY         2001               2   \n",
       "30                               HEAVY         2001               2   \n",
       "49                              MEDIUM         2006               2   \n",
       "63                               HEAVY         1991               2   \n",
       "\n",
       "   DamageLevelID_DisplayEng OperationTypeID_DisplayEng ICAODepart  \n",
       "8                      NONE              AIR TRANSPORT       KSEA  \n",
       "14                     NONE              AIR TRANSPORT       CYUL  \n",
       "30                     NONE              AIR TRANSPORT       CYYZ  \n",
       "49                     NONE            PLEASURE/TRAVEL       EKAH  \n",
       "63                     NONE              AIR TRANSPORT       LPPT  "
      ]
     },
     "execution_count": 57,
     "metadata": {},
     "output_type": "execute_result"
    }
   ],
   "source": [
    "df_handling_null_province = df.copy()\n",
    "df_handling_null_province = df_handling_null_province[df_handling_null_province[\"ProvinceID_DisplayEng\"] == \"UNKNOWN\"]\n",
    "print(f\"Nulls: {len(df_handling_null_province)}\")\n",
    "df_handling_null_province.head()"
   ]
  },
  {
   "cell_type": "code",
   "execution_count": 58,
   "metadata": {},
   "outputs": [],
   "source": [
    "#TODO: Get province manually and finish this part "
   ]
  },
  {
   "cell_type": "code",
   "execution_count": 59,
   "metadata": {},
   "outputs": [],
   "source": [
    "#export_csv_temp(df_handling_null_province, \"null_provinces_P2\")"
   ]
  },
  {
   "cell_type": "code",
   "execution_count": 60,
   "metadata": {},
   "outputs": [],
   "source": [
    "df_temp_filled_provinces_P2 = load_data_from_temp(\"null_provinces_P2_filled.csv\")"
   ]
  },
  {
   "cell_type": "code",
   "execution_count": 61,
   "metadata": {},
   "outputs": [],
   "source": [
    "province_mapping = df_temp_filled_provinces_P2.set_index('OccID')['PROVINCE'].to_dict()\n",
    "df['ProvinceID_DisplayEng'] = df.apply(\n",
    "    lambda row: province_mapping[row['OccID']]\n",
    "    if row['ProvinceID_DisplayEng'] == 'UNKNOWN' and row['OccID'] in province_mapping\n",
    "    else row['ProvinceID_DisplayEng'],\n",
    "    axis=1\n",
    ")\n"
   ]
  },
  {
   "attachments": {},
   "cell_type": "markdown",
   "metadata": {},
   "source": [
    "#### InitTSBNotifDate\r",
    "Does not have nulls but we can convert the format to be the same as the other date and delete the hours as it is generally 12\n"
   ]
  },
  {
   "cell_type": "code",
   "execution_count": 63,
   "metadata": {},
   "outputs": [],
   "source": [
    "#Converting the OccDate column to datetime format\n",
    "df[\"InitTSBNotifDate\"] = pd.to_datetime(df[\"InitTSBNotifDate\"], format=\"%m/%d/%Y %I:%M:%S %p\")\n",
    "\n",
    "#Removing the time part by formatting to only include the date\n",
    "df[\"InitTSBNotifDate\"] = df[\"InitTSBNotifDate\"].dt.date"
   ]
  },
  {
   "cell_type": "markdown",
   "metadata": {},
   "source": [
    "#### ReportedByID_DisplayEng                    \n",
    "Does not have nulls but have unknowns "
   ]
  },
  {
   "cell_type": "code",
   "execution_count": 65,
   "metadata": {},
   "outputs": [
    {
     "name": "stdout",
     "output_type": "stream",
     "text": [
      "Number of unknowns: 39134\n"
     ]
    }
   ],
   "source": [
    "unknown_count = (df[\"ReportedByID_DisplayEng\"] == \"UNKNOWN\").sum()\n",
    "print(f\"Number of unknowns: {unknown_count}\")"
   ]
  },
  {
   "cell_type": "markdown",
   "metadata": {},
   "source": [
    "We can delete this feature as it has almost all cells as unknown"
   ]
  },
  {
   "cell_type": "code",
   "execution_count": 67,
   "metadata": {},
   "outputs": [],
   "source": [
    "df = df.drop(columns = \"ReportedByID_DisplayEng\")"
   ]
  },
  {
   "cell_type": "markdown",
   "metadata": {},
   "source": [
    "#### RespRegionID_DisplayEng                  \n",
    "As it does not have valuable information we could delete it "
   ]
  },
  {
   "cell_type": "code",
   "execution_count": 69,
   "metadata": {},
   "outputs": [],
   "source": [
    "df = df.drop(columns = \"RespRegionID_DisplayEng\")"
   ]
  },
  {
   "cell_type": "markdown",
   "metadata": {},
   "source": [
    "#### Summary\n",
    "We will create a new file just with summary in english because we have cells in french"
   ]
  },
  {
   "cell_type": "code",
   "execution_count": 71,
   "metadata": {},
   "outputs": [],
   "source": [
    "from preprocessing.translations.translation_process import process_translation"
   ]
  },
  {
   "cell_type": "code",
   "execution_count": 72,
   "metadata": {},
   "outputs": [],
   "source": [
    "#process_translation(df.copy())"
   ]
  },
  {
   "cell_type": "code",
   "execution_count": 73,
   "metadata": {},
   "outputs": [],
   "source": [
    "df_temp_eng_summaries = load_data_from_temp(\"eng_summaries.csv\")"
   ]
  },
  {
   "cell_type": "code",
   "execution_count": 74,
   "metadata": {},
   "outputs": [],
   "source": [
    "summary_mapping = df_temp_eng_summaries.set_index('OccID')['Summary'].to_dict()\n",
    "df['Summary'] = df.apply(\n",
    "    lambda row: summary_mapping.get(row['OccID'], ''),\n",
    "    axis=1\n",
    ")"
   ]
  },
  {
   "cell_type": "code",
   "execution_count": 75,
   "metadata": {},
   "outputs": [],
   "source": [
    "df[\"Summary\"] = df[\"Summary\"].fillna(\"\")"
   ]
  },
  {
   "attachments": {},
   "cell_type": "markdown",
   "metadata": {},
   "source": [
    "#### InjuriesEnum_DisplayEng\n"
   ]
  },
  {
   "cell_type": "code",
   "execution_count": 77,
   "metadata": {},
   "outputs": [
    {
     "name": "stdout",
     "output_type": "stream",
     "text": [
      "Number of unknowns: 65\n"
     ]
    }
   ],
   "source": [
    "unknown_count = (df[\"InjuriesEnum_DisplayEng\"] == \"Unknown\").sum()\n",
    "print(f\"Number of unknowns: {unknown_count}\")"
   ]
  },
  {
   "cell_type": "code",
   "execution_count": 78,
   "metadata": {},
   "outputs": [],
   "source": [
    "condition = df[\"InjuriesEnum_DisplayEng\"] == \"Unknown\"\n",
    "\n",
    "df.loc[condition & (df[\"DamageLevelID_DisplayEng\"] == \"NONE\"), \"InjuriesEnum_DisplayEng\"] = \"No\"\n",
    "df.loc[condition & ((df[\"DamageLevelID_DisplayEng\"] == \"SUBSTANTIAL\") | (df[\"DamageLevelID_DisplayEng\"] == \"DESTROYED\")), \"InjuriesEnum_DisplayEng\"] = \"Yes\"\n"
   ]
  },
  {
   "cell_type": "markdown",
   "metadata": {},
   "source": [
    "Now the unknown values are only because missing airplane or unknown damage level"
   ]
  },
  {
   "cell_type": "code",
   "execution_count": 80,
   "metadata": {},
   "outputs": [
    {
     "name": "stdout",
     "output_type": "stream",
     "text": [
      "Number of unknowns: 47\n"
     ]
    }
   ],
   "source": [
    "unknown_count = (df[\"InjuriesEnum_DisplayEng\"] == \"Unknown\").sum()\n",
    "print(f\"Number of unknowns: {unknown_count}\")"
   ]
  },
  {
   "cell_type": "markdown",
   "metadata": {},
   "source": [
    "#### DeployedEnum_DisplayEng"
   ]
  },
  {
   "cell_type": "code",
   "execution_count": 82,
   "metadata": {},
   "outputs": [
    {
     "name": "stdout",
     "output_type": "stream",
     "text": [
      "Number of unknowns: 38921\n"
     ]
    }
   ],
   "source": [
    "unknown_count = (df[\"DeployedEnum_DisplayEng\"] == \"Unknown\").sum()\n",
    "print(f\"Number of unknowns: {unknown_count}\")"
   ]
  },
  {
   "cell_type": "markdown",
   "metadata": {},
   "source": [
    "We can delete it because almost all columns have unknown values "
   ]
  },
  {
   "cell_type": "code",
   "execution_count": 84,
   "metadata": {},
   "outputs": [],
   "source": [
    "df = df.drop(columns = \"DeployedEnum_DisplayEng\")"
   ]
  },
  {
   "cell_type": "markdown",
   "metadata": {},
   "source": [
    "#### RegistrationNo\n",
    "As is a unique identifier for each occurrence we can delete it "
   ]
  },
  {
   "cell_type": "code",
   "execution_count": 86,
   "metadata": {},
   "outputs": [],
   "source": [
    "df = df.drop(columns = \"RegistrationNo\")"
   ]
  },
  {
   "cell_type": "markdown",
   "metadata": {},
   "source": [
    "#### AircraftTypeID_DisplayEng\n",
    "There are only 2 blanks and one column that contains UNKNOWN. We can make them UNKNOWN. "
   ]
  },
  {
   "cell_type": "code",
   "execution_count": 88,
   "metadata": {},
   "outputs": [],
   "source": [
    "condition_contains_unknown = df[\"AircraftTypeID_DisplayEng\"].str.contains(\"UNKNOWN\", na=False)\n",
    "condition_isna = df[\"AircraftTypeID_DisplayEng\"].isna()\n",
    "\n",
    "df.loc[condition_contains_unknown | condition_isna, \"AircraftTypeID_DisplayEng\"] = \"UNKNOWN\""
   ]
  },
  {
   "cell_type": "markdown",
   "metadata": {},
   "source": [
    "#### AircraftMakeID_DisplayEng\n",
    "There are 1032 blanks and some unknowns"
   ]
  },
  {
   "cell_type": "code",
   "execution_count": 90,
   "metadata": {},
   "outputs": [
    {
     "name": "stdout",
     "output_type": "stream",
     "text": [
      "Number of unknowns: 30\n"
     ]
    }
   ],
   "source": [
    "unknown_count = (df[\"AircraftMakeID_DisplayEng\"] == \"UNKNOWN MANUFACTURER\").sum()\n",
    "print(f\"Number of unknowns: {unknown_count}\")"
   ]
  },
  {
   "cell_type": "code",
   "execution_count": 91,
   "metadata": {},
   "outputs": [],
   "source": [
    "condition = df[\"AircraftMakeID_DisplayEng\"].isna()\n",
    "df.loc[condition, \"AircraftMakeID_DisplayEng\"] = \"UNKNOWN MANUFACTURER\""
   ]
  },
  {
   "cell_type": "markdown",
   "metadata": {},
   "source": [
    "#### OrganizationID_DisplayEng\n",
    "It has many nulls because some of them are private "
   ]
  },
  {
   "cell_type": "code",
   "execution_count": 93,
   "metadata": {},
   "outputs": [],
   "source": [
    "df_handling_organization_nulls = df[df[\"OrganizationID_DisplayEng\"].isna()]\n",
    "\n",
    "is_private = (df_handling_organization_nulls[\"OperatorTypeID_DisplayEng\"] == \"PRIVATE\") | \\\n",
    "             (df_handling_organization_nulls[\"OperatorTypeID_DisplayEng\"] == \"PRIVATE-604\")\n",
    "\n",
    "df.loc[df_handling_organization_nulls[is_private].index, \"OrganizationID_DisplayEng\"] = \"NA\"\n",
    "df.loc[df_handling_organization_nulls[~is_private].index, \"OrganizationID_DisplayEng\"] = \"UNKNOWN\""
   ]
  },
  {
   "cell_type": "code",
   "execution_count": 94,
   "metadata": {},
   "outputs": [
    {
     "name": "stdout",
     "output_type": "stream",
     "text": [
      "Number of unknowns: 1114\n"
     ]
    }
   ],
   "source": [
    "unknown_count = (df[\"OrganizationID_DisplayEng\"] == \"UNKNOWN\").sum()\n",
    "print(f\"Number of unknowns: {unknown_count}\")"
   ]
  },
  {
   "cell_type": "code",
   "execution_count": 95,
   "metadata": {},
   "outputs": [],
   "source": [
    "#Deleting some duplicates \n",
    "df[\"OrganizationID_DisplayEng\"] = df[\"OrganizationID_DisplayEng\"].str.replace(r\"HELIJET AIRWAYS$\", \"HELIJET AIRWAY\", regex=True)"
   ]
  },
  {
   "cell_type": "markdown",
   "metadata": {},
   "source": [
    "#### OperatorTypeID_DisplayEng               "
   ]
  },
  {
   "cell_type": "code",
   "execution_count": 97,
   "metadata": {},
   "outputs": [
    {
     "name": "stdout",
     "output_type": "stream",
     "text": [
      "Number of unknowns: 2864\n"
     ]
    }
   ],
   "source": [
    "unknown_count = ((df[\"OperatorTypeID_DisplayEng\"] == \"UNKNOWN\") | (df[\"OperatorTypeID_DisplayEng\"].isna())).sum()\n",
    "print(f\"Number of unknowns: {unknown_count}\")"
   ]
  },
  {
   "cell_type": "code",
   "execution_count": 98,
   "metadata": {},
   "outputs": [],
   "source": [
    "#Deleting duplicate \n",
    "is_private = df[\"OperatorTypeID_DisplayEng\"] == \"PRIVATE-604\"\n",
    "df.loc[df[is_private].index, \"OperatorTypeID_DisplayEng\"] = \"PRIVATE\""
   ]
  },
  {
   "cell_type": "code",
   "execution_count": 99,
   "metadata": {},
   "outputs": [
    {
     "name": "stdout",
     "output_type": "stream",
     "text": [
      "ORGANIZATIONS ['UNKNOWN' 'Canadian Fly-in Fishing Ltd.' 'VANCOUVER HANG GLIDING'\n",
      " 'HARRISON AIRWAYS' 'CANADIAN FORCES - DND' 'LEAR JET INC'\n",
      " 'CANADIAN AIRLINES INTERNATIONAL' 'TIME AIR' 'JAPAN AIR LINES'\n",
      " 'NORTHWEST AIRLINES' 'AIR CANADA' 'AIR BC'\n",
      " 'Bradley Air Services Limited/First Air' 'BUSINESS EXPRESS DELIVERY'\n",
      " 'INTAIR (FORMERLY INTER-CANADIEN)' 'ROCKCLIFFE FLYING CLUB'\n",
      " 'NATIONAIR (NOLISAIR)' 'AIR ALLIANCE' 'BRITISH AIRWAYS' 'AIR INUIT'\n",
      " 'INTER-CANADIAN' 'TEMPUS AIR' 'MILLARDAIR' 'CATHAY PACIFIC'\n",
      " 'DELTA AIR LINES' 'SALAIR' 'AIR TORONTO' 'ONTARIO EXPRESS'\n",
      " 'AMERICAN AIRLINES' 'CANADIAN PARTNERS (...-1993)' 'AIR ONTARIO'\n",
      " 'CITY EXPRESS' 'WORLDWAYS CANADA' 'ENERGY, MINES AND RESOURCES CANADA'\n",
      " 'SKYCRAFT AIR TRANSPORT' 'AIR ATONABEE (OTONABEE AIRWAYS)'\n",
      " 'CANADA 3000 AIRLINES' 'SOUNDAIR' 'AMERIJET INTERNATIONAL'\n",
      " 'DEPARTMENT OF NATIONAL DEFENCE - DND (CANADIAN ARM'\n",
      " 'TRANS WORLD AIRLINES  (TWA)' 'AEROFLOT' 'JETALL HOLDINGS'\n",
      " 'HAWAIIAN AIRLINES' 'SCANDINAVIAN AIRLINES SYSTEM'\n",
      " 'PAN AMERICAN WORLD AIRWAYS' 'AIR NOVA' 'AIR INDIA' 'AIR ATLANTIC'\n",
      " 'HOLIDAIR AIRWAYS' 'BROOKER-WHEATON AVIATION'\n",
      " 'NORTHWEST TERRITORIAL AIRWAYS' 'UNITED AIRLINES' 'LOT POLISH AIRLINES'\n",
      " 'FIRST AIR' 'CONIFAIR AVIATION INC' 'NAV AIR CHARTER' 'WARDAIR CANADA'\n",
      " 'CENTRAL MOUNTAIN AIR' 'CONTINENTAL AIRLINES' 'ALTAIR AVIATION'\n",
      " 'KOREAN AIRLINES' 'TRANS-PROVINCIAL AIRLINES' 'EXECAIRE  (DORVAL)'\n",
      " 'AUSTIN AIRWAYS' 'BRAMPTON FLYING CLUB' 'AIR CREEBEC' 'TRANSPORT CANADA'\n",
      " 'PEM AIR' 'AIR 2000 AIRLINES  (SEE ALSO NEW CODE 1288:'\n",
      " 'LUFTHANSA GERMAN AIRLINES' 'ROSENBALM AVIATION'\n",
      " 'ROYAL JORDANIAN AIRLINES' 'TOWERAIR' 'AIR NORTH CHARTER & TRAINING'\n",
      " 'CANADIAN PACIFIC AIR LINES' 'KELOWNA FLIGHTCRAFT' 'VARIG, S.A.'\n",
      " 'YUGOSLAV AIRLINES - JAT' 'NORDAIR METRO' 'AIR CHARTER SYSTEMS'\n",
      " 'OKANAGAN HELICOPTERS' 'AZTEC AVIATION' 'TRANSBRASIL AIRLINES' 'COMAIR'\n",
      " 'NORTHLAND AIRWAYS (NORTHLAND AIR MANITOBA)'\n",
      " 'MANITOBA DEPARTMENT OF MINES AND RESOURCES' 'CALM AIR'\n",
      " 'IBERIA AIR LINES OF SPAIN' 'SABENA BELGIAN WORLD AIRLINES'\n",
      " 'AMERICAN TRANS AIR' 'UNITED STATES MILITARY'\n",
      " 'GOVERNMENT OF NEWFOUNDLAND AND LABRADOR' 'AIR FRANCE'\n",
      " 'NEWFOUNDLAND AIR TRANSPORT' 'FLYING TIGER LINE' 'EDMONTON FLYING CLUB'\n",
      " 'PACIFIC WESTERN AIRLINES' 'QUEBECAIR'\n",
      " 'QUEBEC GOVERNMENT - GOUVERNMENT DU QUEBEC' 'CANADA JET CHARTERS'\n",
      " 'CENTRAL AIRWAYS' 'LONDON FLYING CLUB OF CANADA' 'NORDAIR  (SUDAIR )'\n",
      " 'SASKATCHEWAN PARKS AND RENEWABLE RESOURCES' 'AURORA AIR SERVICES'\n",
      " 'THUNDER BAY FLYING CLUB' 'WORLD AIRWAYS' 'EMPRESA CUBANA'\n",
      " 'BRITISH AIRTOURS' 'LUFTHANSA' 'K.L.M. ROYAL DUTCH AIRLINES' 'SWISSAIR'\n",
      " 'AIR JAMAICA' 'EXEC-AIR  (BARTLESVILLE, OK)' 'COUGAR AIR INC'\n",
      " 'US AIR INC' 'AIR SAINT-PIERRE' 'ALITALIA' 'SEALAND HELICOPTERS'\n",
      " 'SKYCHARTER' 'VIKING HELICOPTERS' 'PERIMETER AIRLINES (INLAND)'\n",
      " 'BRITISH OVERSEAS AIRWAYS' 'LABRADOR AIRWAYS'\n",
      " 'EASTERN PROVINCIAL AIRWAYS' 'NETJETS'\n",
      " 'TINCUP ENTERPRISES  (RANGER AIR CHARTER)' 'JAZZ AVIATION LP' 'RCAF'\n",
      " 'BC AERO CLUB' 'A D WILLIAMS ENGINEERING' 'MORGAN AIR SERVICES'\n",
      " 'BUFFALO AIRWAYS' 'PROPAIR' 'KLM ROYAL DUTCH AIRLINES' 'FRONTIER AIR'\n",
      " 'AIR-DALE  (NORONTAIR)' 'EL AL ISRAEL AIRLINES' 'VIRGIN ATLANTIC'\n",
      " 'SOUTHERN AIR TRANSPORT' 'B.C. AIR LINES' 'FLIGHTCRAFT'\n",
      " 'QUEBEC MINISTERE DES TRANSPORTS' 'ALASKA AIRLINES'\n",
      " 'AQUILLA AIR CHARTERS' 'BRITISH COLUMBIA GOVERNMENT AIR SERVICE'\n",
      " 'CAPITAL AVIATION SERVICES' 'FINNAIR' 'MALL AIRWAYS' 'CONAIR'\n",
      " 'CZECHOSLOVAK AIRLINES' 'FEDERAL EXPRESS' 'ICELANDAIR'\n",
      " 'EVERGREEN INTERNATIONAL AIRLINES' 'HELIJET AIRWAY' 'AIR TRANSAT A.T.'\n",
      " 'TORONTO AIRWAYS' 'VOYAGEUR AIRWAYS' 'WESTERN AIRLINES' 'OLYMPIC AIRWAYS'\n",
      " 'PEOPLE EXPRESS AIRLINES, ,' 'NUNASI-CENTRAL AIRLINES'\n",
      " 'TRANSAMERICA AIRLINES' 'ANGUS AVIATION' 'RIVERTON AIRWAYS'\n",
      " 'UNIVERSAL HELICOPTERS' 'HELI VOYAGEUR' 'NOVAIR ULTRALIGHT'\n",
      " 'BAXTER AVIATION' 'CALGARY FLYING CLUB' 'AUBURN FLIGHT SERVICE'\n",
      " 'BONAIR AVIATION' 'ONTARIO MINISTRY OF NATURAL RESOURCES'\n",
      " 'NORTH AMERICAN AIRLINES' 'ROYAL CANADIAN MOUNTED POLICE'\n",
      " 'POINTS OF CALL AIR' 'POINTS NORTH AIR SERVICES' 'ARCOT AVIATION'\n",
      " 'EXACT AIR' 'INNOTECH AVIATION' 'BURRARD AIR' 'SKYLINK AIRLINES'\n",
      " 'AER LINGUS' 'UNION DE TRANSPORTS AERIENS (U.T.A.)' 'FUNDY AVIATION'\n",
      " 'ATLANTIC AIRWAYS' 'ZANTOP AIRWAYS' 'SENECA COLLEGE' 'HARBOUR AIR'\n",
      " 'NORTH CARIBOO FLYING SERVICE' 'NORCANAIR' 'PERIMETER AVIATION'\n",
      " 'NEWFOUNDLAND FOREST SERVICE' 'REPUBLIC AIRLINES INC'\n",
      " 'TRANS INTERNATIONAL AIRLINES INC' 'SONTAIR' 'DAN AIR'\n",
      " 'WESTWIND ENTERPRISES' 'CANADIAN UTILITIES' 'AIR SPRAY (1967)'\n",
      " 'PERFECAIR' 'CANAIR CARGO' 'THAI AIRLINES INTERNATIONAL' 'AIR NIAGARA'\n",
      " 'MIDWAY AIRLINES' 'AEROLINEAS ARGENTINAS' 'HOLIDAY AIRWAYS'\n",
      " 'SELKIRK REMOTE SENSING' 'VACATION AIR' 'ALOHA ISLAND AIR'\n",
      " 'COOK AVIATION' 'RICH INTERNATIONAL AIRWAYS' 'AUSTRIAN AIRLINES'\n",
      " 'PAKISTAN INTERNATIONAL AIRLINES' 'ALBERTA GOVERNMENT' 'AIR SPRAY 57526'\n",
      " 'QUEBEC AVIATION' 'TAP (TRANSPORTES AEREOS PORTUGUESES)' 'AIR 500'\n",
      " 'GUELPH AVIATION' 'ICARUS FLYING SERVICE  (LES SERVICES AERIENS I'\n",
      " 'CANADA WEST AIR' 'CALGARY FLIGHT TRAINING CENTRE' 'NORTHCANA'\n",
      " 'OTTAWA FLYING CLUB' 'EASTERN FLYING SERVICE' 'CANADIAN COAST GUARD'\n",
      " 'BRITISH CALEDONIAN AIRWAYS' 'EASTERN AIR LINES' 'STERLING AIRWAYS'\n",
      " 'UNITED STATES COAST GUARD' 'MONCTON FLYING CLUB']\n",
      "OPERATORS ['PRIVATE' 'COMMERCIAL' 'STATE' 'OTHER' 'UNKNOWN' 'CORPORATE'\n",
      " 'MANUFACTURER' nan]\n"
     ]
    }
   ],
   "source": [
    "df_handling_null_operatortype = df[(df[\"OperatorTypeID_DisplayEng\"] == \"UNKNOWN\") | (df[\"OperatorTypeID_DisplayEng\"].isna())]\n",
    "unique_organizations = df_handling_null_operatortype[\"OrganizationID_DisplayEng\"].unique()\n",
    "print(f\"ORGANIZATIONS {unique_organizations}\")\n",
    "\n",
    "unique_operators = df[\"OperatorTypeID_DisplayEng\"].unique()\n",
    "print(f\"OPERATORS {unique_operators}\")"
   ]
  },
  {
   "cell_type": "code",
   "execution_count": 100,
   "metadata": {},
   "outputs": [],
   "source": [
    "from preprocessing.constants_preprocessing import ORGANIZATIONS_BY_OPERATIONTYPE"
   ]
  },
  {
   "cell_type": "code",
   "execution_count": 101,
   "metadata": {},
   "outputs": [],
   "source": [
    "#Inverse mapping\n",
    "org_to_type = {org: key for key, orgs in ORGANIZATIONS_BY_OPERATIONTYPE.items() for org in orgs}\n",
    "#Assigning organization types \n",
    "df.loc[df_handling_null_operatortype.index, \"OperatorTypeID_DisplayEng\"] = df_handling_null_operatortype[\"OrganizationID_DisplayEng\"].map(org_to_type)"
   ]
  },
  {
   "cell_type": "code",
   "execution_count": 102,
   "metadata": {},
   "outputs": [
    {
     "name": "stdout",
     "output_type": "stream",
     "text": [
      "Number of unknowns: 500\n"
     ]
    }
   ],
   "source": [
    "unknown_count = ((df[\"OperatorTypeID_DisplayEng\"] == \"UNKNOWN\") | (df[\"OperatorTypeID_DisplayEng\"].isna())).sum()\n",
    "print(f\"Number of unknowns: {unknown_count}\")"
   ]
  },
  {
   "attachments": {},
   "cell_type": "markdown",
   "metadata": {},
   "source": [
    "Now we can delete the rows that have AircraftMakeID_DisplayEng\tOrganizationID_DisplayEng\tOperatorTypeID_DisplayEng all in null \n"
   ]
  },
  {
   "cell_type": "code",
   "execution_count": 104,
   "metadata": {},
   "outputs": [],
   "source": [
    "condition = (\n",
    "    (df[\"AircraftMakeID_DisplayEng\"] == \"UNKNOWN MANUFACTURER\") &\n",
    "    (df[\"OrganizationID_DisplayEng\"] == \"UNKNOWN\") &\n",
    "    (df[\"OperatorTypeID_DisplayEng\"] == \"UNKNOWN\")\n",
    ")\n",
    "\n",
    "df = df[~condition].reset_index(drop=True)"
   ]
  },
  {
   "cell_type": "code",
   "execution_count": 105,
   "metadata": {},
   "outputs": [
    {
     "name": "stdout",
     "output_type": "stream",
     "text": [
      "OccID                                      0\n",
      "Latitude                                   0\n",
      "Longitude                                  0\n",
      "CountryID_DisplayEng                       0\n",
      "OccDate                                    0\n",
      "OccIncidentTypeID_DisplayEng           20176\n",
      "OccTime                                    0\n",
      "OccTypeID_DisplayEng                       0\n",
      "ProvinceID_DisplayEng                      1\n",
      "InitTSBNotifDate                           0\n",
      "Summary                                    0\n",
      "InjuriesEnum_DisplayEng                    0\n",
      "AircraftTypeID_DisplayEng                  0\n",
      "AircraftMakeID_DisplayEng                  0\n",
      "OrganizationID_DisplayEng                  0\n",
      "OperatorTypeID_DisplayEng                  0\n",
      "WeightCategoryID_DisplayEng               31\n",
      "LandingGearID_DisplayEng                9599\n",
      "WakeTurbulenceCategoryID_DisplayEng     1752\n",
      "YearOfManuf                                0\n",
      "NumberOfEngine                             0\n",
      "DamageLevelID_DisplayEng                1479\n",
      "OperationTypeID_DisplayEng              3217\n",
      "ICAODepart                             22649\n",
      "dtype: int64\n",
      "# of rows 'fullData_V1.csv': 48371\n"
     ]
    }
   ],
   "source": [
    "print(df.isnull().sum())\n",
    "print(f\"# of rows 'fullData_V1.csv': {len(df)}\")"
   ]
  },
  {
   "cell_type": "markdown",
   "metadata": {},
   "source": [
    "#### LandingGearID_DisplayEng      \n",
    "As it has so many null values we can delete it "
   ]
  },
  {
   "cell_type": "code",
   "execution_count": 107,
   "metadata": {},
   "outputs": [],
   "source": [
    "df = df.drop(columns = \"LandingGearID_DisplayEng\")"
   ]
  },
  {
   "cell_type": "markdown",
   "metadata": {},
   "source": [
    "#### WakeTurbulenceCategoryID_DisplayEng     \n",
    "We can see the blanks and unknowns we have "
   ]
  },
  {
   "cell_type": "code",
   "execution_count": 109,
   "metadata": {},
   "outputs": [
    {
     "name": "stdout",
     "output_type": "stream",
     "text": [
      "Number of unknowns: 1760\n"
     ]
    }
   ],
   "source": [
    "unknown_count = ((df[\"WakeTurbulenceCategoryID_DisplayEng\"] == \"UNKNOWN\") | (df[\"WakeTurbulenceCategoryID_DisplayEng\"].isna())).sum()\n",
    "print(f\"Number of unknowns: {unknown_count}\")"
   ]
  },
  {
   "cell_type": "code",
   "execution_count": 110,
   "metadata": {},
   "outputs": [],
   "source": [
    "#We can assign unknown to null cells \n",
    "df[\"WakeTurbulenceCategoryID_DisplayEng\"] = df[\"WakeTurbulenceCategoryID_DisplayEng\"].fillna(\"UNKNOWN\")"
   ]
  },
  {
   "cell_type": "markdown",
   "metadata": {},
   "source": [
    "#### NumberOfEngine                             \n",
    "As the same with yearOfManuf, we dont have null values but we have 0."
   ]
  },
  {
   "cell_type": "code",
   "execution_count": 112,
   "metadata": {},
   "outputs": [
    {
     "name": "stdout",
     "output_type": "stream",
     "text": [
      "Number of unknowns: 580\n"
     ]
    }
   ],
   "source": [
    "zero_count = (df[\"NumberOfEngine\"] == 0).sum()\n",
    "print(f\"Number of unknowns: {zero_count}\")"
   ]
  },
  {
   "cell_type": "markdown",
   "metadata": {},
   "source": [
    "Since this column is important and we just have a few 0s, we can delete the rows that have 0 values. "
   ]
  },
  {
   "cell_type": "code",
   "execution_count": 114,
   "metadata": {},
   "outputs": [],
   "source": [
    "condition = (df[\"NumberOfEngine\"] == 0)\n",
    "df = df[~condition].reset_index(drop=True)"
   ]
  },
  {
   "cell_type": "markdown",
   "metadata": {},
   "source": [
    "#### DamageLevelID_DisplayEng"
   ]
  },
  {
   "cell_type": "code",
   "execution_count": 116,
   "metadata": {},
   "outputs": [
    {
     "name": "stdout",
     "output_type": "stream",
     "text": [
      "Number of unknowns: 1794\n"
     ]
    }
   ],
   "source": [
    "null_count = ((df[\"DamageLevelID_DisplayEng\"].isna()) | (df[\"DamageLevelID_DisplayEng\"] == \"UNKNOWN\")).sum()\n",
    "print(f\"Number of unknowns: {null_count}\")"
   ]
  },
  {
   "cell_type": "markdown",
   "metadata": {},
   "source": [
    "Since there are not too many values we can use unknown"
   ]
  },
  {
   "cell_type": "code",
   "execution_count": 118,
   "metadata": {},
   "outputs": [],
   "source": [
    "df[\"DamageLevelID_DisplayEng\"] = df[\"DamageLevelID_DisplayEng\"].fillna(\"UNKNOWN\")"
   ]
  },
  {
   "cell_type": "markdown",
   "metadata": {},
   "source": [
    "#### OperationTypeID_DisplayEng              "
   ]
  },
  {
   "cell_type": "code",
   "execution_count": 120,
   "metadata": {},
   "outputs": [
    {
     "name": "stdout",
     "output_type": "stream",
     "text": [
      "Number of unknowns: 3247\n"
     ]
    }
   ],
   "source": [
    "null_count = ((df[\"OperationTypeID_DisplayEng\"].isna()) | (df[\"OperationTypeID_DisplayEng\"] == \"UNKNOWN\")).sum()\n",
    "print(f\"Number of unknowns: {null_count}\")"
   ]
  },
  {
   "cell_type": "code",
   "execution_count": 121,
   "metadata": {},
   "outputs": [],
   "source": [
    "df[\"OperationTypeID_DisplayEng\"] = df[\"OperationTypeID_DisplayEng\"].fillna(\"UNKNOWN\")"
   ]
  },
  {
   "cell_type": "markdown",
   "metadata": {},
   "source": [
    "#### WeightCategoryID_DisplayEng               "
   ]
  },
  {
   "cell_type": "code",
   "execution_count": 123,
   "metadata": {},
   "outputs": [
    {
     "name": "stdout",
     "output_type": "stream",
     "text": [
      "Number of unknowns: 9\n"
     ]
    }
   ],
   "source": [
    "null_count = (df[\"WeightCategoryID_DisplayEng\"].isna()).sum()\n",
    "print(f\"Number of unknowns: {null_count}\")"
   ]
  },
  {
   "cell_type": "code",
   "execution_count": 124,
   "metadata": {},
   "outputs": [],
   "source": [
    "df[\"WeightCategoryID_DisplayEng\"] = df[\"WeightCategoryID_DisplayEng\"].fillna(\"UNKNOWN\")"
   ]
  },
  {
   "cell_type": "markdown",
   "metadata": {},
   "source": [
    "#### ICAODepart                             \n",
    "We can delete it because it has so many nulls"
   ]
  },
  {
   "cell_type": "code",
   "execution_count": 126,
   "metadata": {},
   "outputs": [],
   "source": [
    "df = df.drop(columns = \"ICAODepart\")"
   ]
  },
  {
   "cell_type": "markdown",
   "metadata": {},
   "source": [
    "#### YearOfManuf\n",
    "As is a number it does not have null values but 0 values "
   ]
  },
  {
   "cell_type": "code",
   "execution_count": 128,
   "metadata": {},
   "outputs": [
    {
     "name": "stdout",
     "output_type": "stream",
     "text": [
      "Number of unknowns: 7042\n"
     ]
    }
   ],
   "source": [
    "zero_count = (df[\"YearOfManuf\"] == 0).sum()\n",
    "print(f\"Number of unknowns: {zero_count}\")"
   ]
  },
  {
   "cell_type": "markdown",
   "metadata": {},
   "source": [
    "As this value is important and we could lose information deleting the rows, we could use a machine learning model to calculate the year of manufacture. In this case we can use a random forest classifier "
   ]
  },
  {
   "cell_type": "code",
   "execution_count": 130,
   "metadata": {},
   "outputs": [],
   "source": [
    "from preprocessing.year_of_manuf.predicting_year_of_manuf import predict_year_of_manuf"
   ]
  },
  {
   "cell_type": "code",
   "execution_count": 131,
   "metadata": {},
   "outputs": [],
   "source": [
    "#predict_year_of_manuf(df)"
   ]
  },
  {
   "cell_type": "code",
   "execution_count": 132,
   "metadata": {},
   "outputs": [],
   "source": [
    "df_temp_filled_years = load_data_from_temp(\"0_years_filled.csv\")"
   ]
  },
  {
   "cell_type": "code",
   "execution_count": 133,
   "metadata": {},
   "outputs": [],
   "source": [
    "years_mapping = df_temp_filled_years.set_index('OccID')['YearOfManuf'].to_dict()\n",
    "df['YearOfManuf'] = df.apply(\n",
    "    lambda row: years_mapping[row['OccID']]\n",
    "    if row['YearOfManuf'] == 0 and row['OccID'] in years_mapping\n",
    "    else row['YearOfManuf'],\n",
    "    axis=1\n",
    ")"
   ]
  },
  {
   "cell_type": "markdown",
   "metadata": {},
   "source": [
    "### <font color='purple'>FullData_V2</font>\n",
    "Contains the dataset with features to use "
   ]
  },
  {
   "cell_type": "code",
   "execution_count": 135,
   "metadata": {},
   "outputs": [
    {
     "name": "stdout",
     "output_type": "stream",
     "text": [
      "File fullData_V2.csv created\n"
     ]
    }
   ],
   "source": [
    "exportDataVersion(df, 2)"
   ]
  }
 ],
 "metadata": {
  "kernelspec": {
   "display_name": "DA Project env",
   "language": "python",
   "name": "venv"
  },
  "language_info": {
   "codemirror_mode": {
    "name": "ipython",
    "version": 3
   },
   "file_extension": ".py",
   "mimetype": "text/x-python",
   "name": "python",
   "nbconvert_exporter": "python",
   "pygments_lexer": "ipython3",
   "version": "3.12.6"
  }
 },
 "nbformat": 4,
 "nbformat_minor": 4
}
